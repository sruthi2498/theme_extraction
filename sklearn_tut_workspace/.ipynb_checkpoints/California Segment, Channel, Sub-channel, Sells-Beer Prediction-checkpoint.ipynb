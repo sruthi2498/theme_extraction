{
 "cells": [
  {
   "cell_type": "code",
   "execution_count": 1,
   "metadata": {},
   "outputs": [
    {
     "name": "stderr",
     "output_type": "stream",
     "text": [
      "C:\\Users\\Madhur\\Anaconda3\\lib\\site-packages\\sklearn\\cross_validation.py:44: DeprecationWarning: This module was deprecated in version 0.18 in favor of the model_selection module into which all the refactored classes and functions are moved. Also note that the interface of the new CV iterators are different from that of this module. This module will be removed in 0.20.\n",
      "  \"This module will be removed in 0.20.\", DeprecationWarning)\n"
     ]
    }
   ],
   "source": [
    "import pandas as pd\n",
    "from sklearn.naive_bayes import GaussianNB\n",
    "from sklearn.naive_bayes import MultinomialNB\n",
    "from sklearn.feature_extraction.text import CountVectorizer\n",
    "from sklearn.feature_extraction.text import TfidfVectorizer\n",
    "import re\n",
    "from sklearn.tree import DecisionTreeClassifier\n",
    "from sklearn.ensemble import RandomForestClassifier\n",
    "from sklearn.ensemble import AdaBoostClassifier\n",
    "from sklearn.svm import SVC\n",
    "from sklearn.cross_validation import train_test_split\n",
    "from sklearn.feature_extraction.text import TfidfTransformer\n",
    "from nltk.corpus import stopwords\n",
    "from nltk.stem.snowball import SnowballStemmer\n",
    "from sklearn.metrics import accuracy_score"
   ]
  },
  {
   "cell_type": "code",
   "execution_count": 2,
   "metadata": {},
   "outputs": [
    {
     "name": "stderr",
     "output_type": "stream",
     "text": [
      "C:\\Users\\Madhur\\Anaconda3\\lib\\site-packages\\IPython\\core\\interactiveshell.py:2717: DtypeWarning: Columns (32,42,43,44,45,46,47,48,49) have mixed types. Specify dtype option on import or set low_memory=False.\n",
      "  interactivity=interactivity, compiler=compiler, result=result)\n"
     ]
    }
   ],
   "source": [
    "data = pd.read_csv(r'C:\\Users\\Madhur\\Documents\\ABI\\POC Eagle Eye\\US\\California\\California Uniontable - Volume Prediction.csv', encoding = 'latin-1')"
   ]
  },
  {
   "cell_type": "code",
   "execution_count": 3,
   "metadata": {},
   "outputs": [
    {
     "data": {
      "text/plain": [
       "(84083, 61)"
      ]
     },
     "execution_count": 3,
     "metadata": {},
     "output_type": "execute_result"
    }
   ],
   "source": [
    "data.shape"
   ]
  },
  {
   "cell_type": "code",
   "execution_count": 4,
   "metadata": {},
   "outputs": [
    {
     "data": {
      "text/plain": [
       "Index(['Consolidated ID', 'Consolidated Name', 'Consolidated Address',\n",
       "       'Consolidated City', 'Consolidated Zipcode', 'Consolidated County',\n",
       "       'Total Population', 'Female Age Under 18', 'Female Age under 40',\n",
       "       'Female Age over 40', 'Male Age Under 18', 'Male Age under 40',\n",
       "       'Male Age over 40', 'White', 'Black', 'American_Indian', 'Asian',\n",
       "       'Native_Hawaiian', 'Multiracial', 'Hispanic', 'Consolidated Latitude',\n",
       "       'Consolidated Longitude', 'California_Latitude', 'California_Longitude',\n",
       "       'California_Wholesaler ID', 'California_Customer ID',\n",
       "       'California_Channel', 'California_Subsegment',\n",
       "       'California_Alcohol License', 'California_volume',\n",
       "       'Foursquare_Latitude', 'Foursquare_Longitude', 'Foursquare ID',\n",
       "       'Foursquare_Chain', 'Foursquare_Rating',\n",
       "       'Foursquare_Total_Visits_Normalized', 'Foursquare_Gender_Percent_Male',\n",
       "       'Foursquare_Gender_Percent_Female', 'Foursquare_Age_Under_34',\n",
       "       'Foursuqre_Age_Over_34', 'Foursuqre_Mon_Thu', 'Foursquare_Fri_Sun',\n",
       "       'Foursquare_Cocktails', 'Foursquare_Beer', 'Foursquare_Wine',\n",
       "       'Foursquare_Happy_Hour', 'Foursquare_Category',\n",
       "       'Foursquare_Category_Level_1', 'Foursquare_Category_Level_2',\n",
       "       'Foursquare_Category_Level_3', 'Foursquare_Age_Of_Establishment',\n",
       "       'Known POC', 'Buyer', 'Sells Beer', 'Channel', 'Sub-Channel', 'Segment',\n",
       "       'Influencer Score', 'Influencer', 'Volume Prediction',\n",
       "       'Volume Potential'],\n",
       "      dtype='object')"
      ]
     },
     "execution_count": 4,
     "metadata": {},
     "output_type": "execute_result"
    }
   ],
   "source": [
    "data.columns"
   ]
  },
  {
   "cell_type": "code",
   "execution_count": 5,
   "metadata": {
    "collapsed": true
   },
   "outputs": [],
   "source": [
    "data = data.loc[data['Sells Beer']=='TBD', ]"
   ]
  },
  {
   "cell_type": "code",
   "execution_count": 6,
   "metadata": {},
   "outputs": [
    {
     "data": {
      "text/plain": [
       "(0, 61)"
      ]
     },
     "execution_count": 6,
     "metadata": {},
     "output_type": "execute_result"
    }
   ],
   "source": [
    "data.shape"
   ]
  },
  {
   "cell_type": "code",
   "execution_count": 9,
   "metadata": {
    "collapsed": true
   },
   "outputs": [],
   "source": [
    "data['Consolidated Type'] = data['Foursquare_Category'].map(str) + \" \" + data['Foursquare_Category_Level_1'].map(str) + \" \" + data['Foursquare_Category_Level_2'].map(str) + \" \" + data['Foursquare_Category_Level_3'].map(str)"
   ]
  },
  {
   "cell_type": "markdown",
   "metadata": {},
   "source": [
    "## Create List of Stopwords"
   ]
  },
  {
   "cell_type": "code",
   "execution_count": 10,
   "metadata": {},
   "outputs": [],
   "source": [
    "stops = stopwords.words(\"english\")"
   ]
  },
  {
   "cell_type": "code",
   "execution_count": 11,
   "metadata": {
    "collapsed": true
   },
   "outputs": [],
   "source": [
    "tot_words = stops"
   ]
  },
  {
   "cell_type": "code",
   "execution_count": 12,
   "metadata": {},
   "outputs": [
    {
     "data": {
      "text/plain": [
       "153"
      ]
     },
     "execution_count": 12,
     "metadata": {},
     "output_type": "execute_result"
    }
   ],
   "source": [
    "len(stops)"
   ]
  },
  {
   "cell_type": "code",
   "execution_count": 13,
   "metadata": {},
   "outputs": [],
   "source": [
    "#data['Consolidated Type'] = data['Consolidated Type'].map(str)\n",
    "#data['Consolidated Type'] = data['Consolidated Type'].map(lambda x: str(x).lower)\n",
    "data['Consolidated Type'] = data['Consolidated Type'].map(lambda x: re.sub('[^a-zA-Z ]', ' ', str(x), flags=re.IGNORECASE))\n",
    "for item in tot_words:\n",
    "    expr = r\"\\b\" + item + r\"\\b\"\n",
    "    data['Consolidated Type'] = data['Consolidated Type'].map(lambda x: re.sub(expr, ' ', str(x), flags=re.IGNORECASE))\n",
    "data['Consolidated Type'] = data['Consolidated Type'].map(lambda x: re.sub(' +', ' ', str(x), flags=re.IGNORECASE))"
   ]
  },
  {
   "cell_type": "code",
   "execution_count": 14,
   "metadata": {},
   "outputs": [],
   "source": [
    "consolidated = data['Consolidated Type']"
   ]
  },
  {
   "cell_type": "code",
   "execution_count": 15,
   "metadata": {},
   "outputs": [],
   "source": [
    "total_unique = pd.Series(consolidated.unique())"
   ]
  },
  {
   "cell_type": "code",
   "execution_count": 16,
   "metadata": {},
   "outputs": [
    {
     "data": {
      "text/plain": [
       "(159,)"
      ]
     },
     "execution_count": 16,
     "metadata": {},
     "output_type": "execute_result"
    }
   ],
   "source": [
    "total_unique.shape"
   ]
  },
  {
   "cell_type": "code",
   "execution_count": 17,
   "metadata": {},
   "outputs": [],
   "source": [
    "total_sample = total_unique.sample(159)"
   ]
  },
  {
   "cell_type": "code",
   "execution_count": 18,
   "metadata": {
    "collapsed": true
   },
   "outputs": [],
   "source": [
    "vectorizer = TfidfVectorizer(stop_words=\"english\", use_idf=False, sublinear_tf=True, max_features=400)"
   ]
  },
  {
   "cell_type": "code",
   "execution_count": 19,
   "metadata": {},
   "outputs": [
    {
     "name": "stdout",
     "output_type": "stream",
     "text": [
      "1. Which segment does wings joints food wings joints nan belong to?\n",
      "Enter 'c' for Cafe, 's' for sports, 'b' for Beer Bars, 'l' for Lodging, 'su' for supermarket, 'ds' for drink stores, 'as' for airports and stations, 'cl' for clubs/lounge, 'co' for convinience, 'dr' for drugstore, 'hc' for high culture, 'ce' for casual entertainment, 'hy' for hypermarket & 'ad' for adults at play:\n",
      "c\n",
      "2. Which segment does steakhouses food steakhouses nan belong to?\n",
      "Enter 'c' for Cafe, 's' for sports, 'b' for Beer Bars, 'l' for Lodging, 'su' for supermarket, 'ds' for drink stores, 'as' for airports and stations, 'cl' for clubs/lounge, 'co' for convinience, 'dr' for drugstore, 'hc' for high culture, 'ce' for casual entertainment, 'hy' for hypermarket & 'ad' for adults at play:\n",
      "c\n",
      "3. Which segment does asian restaurants food asian restaurants nan belong to?\n",
      "Enter 'c' for Cafe, 's' for sports, 'b' for Beer Bars, 'l' for Lodging, 'su' for supermarket, 'ds' for drink stores, 'as' for airports and stations, 'cl' for clubs/lounge, 'co' for convinience, 'dr' for drugstore, 'hc' for high culture, 'ce' for casual entertainment, 'hy' for hypermarket & 'ad' for adults at play:\n",
      "c\n",
      "4. Which segment does indonesian restaurants food asian restaurants indonesian restaurants belong to?\n",
      "Enter 'c' for Cafe, 's' for sports, 'b' for Beer Bars, 'l' for Lodging, 'su' for supermarket, 'ds' for drink stores, 'as' for airports and stations, 'cl' for clubs/lounge, 'co' for convinience, 'dr' for drugstore, 'hc' for high culture, 'ce' for casual entertainment, 'hy' for hypermarket & 'ad' for adults at play:\n",
      "c\n",
      "5. Which segment does fondue restaurants food fondue restaurants nan belong to?\n",
      "Enter 'c' for Cafe, 's' for sports, 'b' for Beer Bars, 'l' for Lodging, 'su' for supermarket, 'ds' for drink stores, 'as' for airports and stations, 'cl' for clubs/lounge, 'co' for convinience, 'dr' for drugstore, 'hc' for high culture, 'ce' for casual entertainment, 'hy' for hypermarket & 'ad' for adults at play:\n",
      "c\n",
      "6. Which segment does japanese restaurants food asian restaurants japanese restaurants belong to?\n",
      "Enter 'c' for Cafe, 's' for sports, 'b' for Beer Bars, 'l' for Lodging, 'su' for supermarket, 'ds' for drink stores, 'as' for airports and stations, 'cl' for clubs/lounge, 'co' for convinience, 'dr' for drugstore, 'hc' for high culture, 'ce' for casual entertainment, 'hy' for hypermarket & 'ad' for adults at play:\n",
      "c\n",
      "7. Which segment does cuban restaurants food caribbean restaurants cuban restaurants belong to?\n",
      "Enter 'c' for Cafe, 's' for sports, 'b' for Beer Bars, 'l' for Lodging, 'su' for supermarket, 'ds' for drink stores, 'as' for airports and stations, 'cl' for clubs/lounge, 'co' for convinience, 'dr' for drugstore, 'hc' for high culture, 'ce' for casual entertainment, 'hy' for hypermarket & 'ad' for adults at play:\n",
      "c\n",
      "8. Which segment does bakeries food bakeries nan belong to?\n",
      "Enter 'c' for Cafe, 's' for sports, 'b' for Beer Bars, 'l' for Lodging, 'su' for supermarket, 'ds' for drink stores, 'as' for airports and stations, 'cl' for clubs/lounge, 'co' for convinience, 'dr' for drugstore, 'hc' for high culture, 'ce' for casual entertainment, 'hy' for hypermarket & 'ad' for adults at play:\n",
      "c\n",
      "9. Which segment does food courts food food courts nan belong to?\n",
      "Enter 'c' for Cafe, 's' for sports, 'b' for Beer Bars, 'l' for Lodging, 'su' for supermarket, 'ds' for drink stores, 'as' for airports and stations, 'cl' for clubs/lounge, 'co' for convinience, 'dr' for drugstore, 'hc' for high culture, 'ce' for casual entertainment, 'hy' for hypermarket & 'ad' for adults at play:\n",
      "c\n",
      "10. Which segment does filipino restaurants food asian restaurants filipino restaurants belong to?\n",
      "Enter 'c' for Cafe, 's' for sports, 'b' for Beer Bars, 'l' for Lodging, 'su' for supermarket, 'ds' for drink stores, 'as' for airports and stations, 'cl' for clubs/lounge, 'co' for convinience, 'dr' for drugstore, 'hc' for high culture, 'ce' for casual entertainment, 'hy' for hypermarket & 'ad' for adults at play:\n",
      "c\n",
      "11. Which segment does african restaurants food african restaurants nan belong to?\n",
      "Enter 'c' for Cafe, 's' for sports, 'b' for Beer Bars, 'l' for Lodging, 'su' for supermarket, 'ds' for drink stores, 'as' for airports and stations, 'cl' for clubs/lounge, 'co' for convinience, 'dr' for drugstore, 'hc' for high culture, 'ce' for casual entertainment, 'hy' for hypermarket & 'ad' for adults at play:\n",
      "c\n",
      "12. Which segment does theme restaurants food theme restaurants nan belong to?\n",
      "Enter 'c' for Cafe, 's' for sports, 'b' for Beer Bars, 'l' for Lodging, 'su' for supermarket, 'ds' for drink stores, 'as' for airports and stations, 'cl' for clubs/lounge, 'co' for convinience, 'dr' for drugstore, 'hc' for high culture, 'ce' for casual entertainment, 'hy' for hypermarket & 'ad' for adults at play:\n",
      "c\n",
      "13. Which segment does comfort food restaurants food comfort food restaurants nan belong to?\n",
      "Enter 'c' for Cafe, 's' for sports, 'b' for Beer Bars, 'l' for Lodging, 'su' for supermarket, 'ds' for drink stores, 'as' for airports and stations, 'cl' for clubs/lounge, 'co' for convinience, 'dr' for drugstore, 'hc' for high culture, 'ce' for casual entertainment, 'hy' for hypermarket & 'ad' for adults at play:\n",
      "c\n",
      "14. Which segment does juice bars food juice bars nan belong to?\n",
      "Enter 'c' for Cafe, 's' for sports, 'b' for Beer Bars, 'l' for Lodging, 'su' for supermarket, 'ds' for drink stores, 'as' for airports and stations, 'cl' for clubs/lounge, 'co' for convinience, 'dr' for drugstore, 'hc' for high culture, 'ce' for casual entertainment, 'hy' for hypermarket & 'ad' for adults at play:\n",
      "c\n",
      "15. Which segment does beer gardens nightlife spots bars beer gardens belong to?\n",
      "Enter 'c' for Cafe, 's' for sports, 'b' for Beer Bars, 'l' for Lodging, 'su' for supermarket, 'ds' for drink stores, 'as' for airports and stations, 'cl' for clubs/lounge, 'co' for convinience, 'dr' for drugstore, 'hc' for high culture, 'ce' for casual entertainment, 'hy' for hypermarket & 'ad' for adults at play:\n",
      "b\n",
      "16. Which segment does german restaurants food german restaurants nan belong to?\n",
      "Enter 'c' for Cafe, 's' for sports, 'b' for Beer Bars, 'l' for Lodging, 'su' for supermarket, 'ds' for drink stores, 'as' for airports and stations, 'cl' for clubs/lounge, 'co' for convinience, 'dr' for drugstore, 'hc' for high culture, 'ce' for casual entertainment, 'hy' for hypermarket & 'ad' for adults at play:\n",
      "c\n",
      "17. Which segment does sake bars nightlife spots bars sake bars belong to?\n",
      "Enter 'c' for Cafe, 's' for sports, 'b' for Beer Bars, 'l' for Lodging, 'su' for supermarket, 'ds' for drink stores, 'as' for airports and stations, 'cl' for clubs/lounge, 'co' for convinience, 'dr' for drugstore, 'hc' for high culture, 'ce' for casual entertainment, 'hy' for hypermarket & 'ad' for adults at play:\n",
      "b\n",
      "18. Which segment does shaanxi restaurants food asian restaurants chinese restaurants belong to?\n",
      "Enter 'c' for Cafe, 's' for sports, 'b' for Beer Bars, 'l' for Lodging, 'su' for supermarket, 'ds' for drink stores, 'as' for airports and stations, 'cl' for clubs/lounge, 'co' for convinience, 'dr' for drugstore, 'hc' for high culture, 'ce' for casual entertainment, 'hy' for hypermarket & 'ad' for adults at play:\n",
      "c\n",
      "19. Which segment does dumpling restaurants food dumpling restaurants nan belong to?\n",
      "Enter 'c' for Cafe, 's' for sports, 'b' for Beer Bars, 'l' for Lodging, 'su' for supermarket, 'ds' for drink stores, 'as' for airports and stations, 'cl' for clubs/lounge, 'co' for convinience, 'dr' for drugstore, 'hc' for high culture, 'ce' for casual entertainment, 'hy' for hypermarket & 'ad' for adults at play:\n",
      "c\n",
      "20. Which segment does mediterranean restaurants food mediterranean restaurants nan belong to?\n",
      "Enter 'c' for Cafe, 's' for sports, 'b' for Beer Bars, 'l' for Lodging, 'su' for supermarket, 'ds' for drink stores, 'as' for airports and stations, 'cl' for clubs/lounge, 'co' for convinience, 'dr' for drugstore, 'hc' for high culture, 'ce' for casual entertainment, 'hy' for hypermarket & 'ad' for adults at play:\n",
      "c\n",
      "21. Which segment does champagne bars nightlife spots bars champagne bars belong to?\n",
      "Enter 'c' for Cafe, 's' for sports, 'b' for Beer Bars, 'l' for Lodging, 'su' for supermarket, 'ds' for drink stores, 'as' for airports and stations, 'cl' for clubs/lounge, 'co' for convinience, 'dr' for drugstore, 'hc' for high culture, 'ce' for casual entertainment, 'hy' for hypermarket & 'ad' for adults at play:\n",
      "b\n",
      "22. Which segment does vegetarian vegan restaurants food vegetarian vegan restaurants nan belong to?\n",
      "Enter 'c' for Cafe, 's' for sports, 'b' for Beer Bars, 'l' for Lodging, 'su' for supermarket, 'ds' for drink stores, 'as' for airports and stations, 'cl' for clubs/lounge, 'co' for convinience, 'dr' for drugstore, 'hc' for high culture, 'ce' for casual entertainment, 'hy' for hypermarket & 'ad' for adults at play:\n",
      "c\n",
      "23. Which segment does lounges nightlife spots lounges nan belong to?\n",
      "Enter 'c' for Cafe, 's' for sports, 'b' for Beer Bars, 'l' for Lodging, 'su' for supermarket, 'ds' for drink stores, 'as' for airports and stations, 'cl' for clubs/lounge, 'co' for convinience, 'dr' for drugstore, 'hc' for high culture, 'ce' for casual entertainment, 'hy' for hypermarket & 'ad' for adults at play:\n",
      "cl\n",
      "24. Which segment does austrian restaurants food austrian restaurants nan belong to?\n",
      "Enter 'c' for Cafe, 's' for sports, 'b' for Beer Bars, 'l' for Lodging, 'su' for supermarket, 'ds' for drink stores, 'as' for airports and stations, 'cl' for clubs/lounge, 'co' for convinience, 'dr' for drugstore, 'hc' for high culture, 'ce' for casual entertainment, 'hy' for hypermarket & 'ad' for adults at play:\n",
      "c\n",
      "25. Which segment does hotel bars nightlife spots bars hotel bars belong to?\n",
      "Enter 'c' for Cafe, 's' for sports, 'b' for Beer Bars, 'l' for Lodging, 'su' for supermarket, 'ds' for drink stores, 'as' for airports and stations, 'cl' for clubs/lounge, 'co' for convinience, 'dr' for drugstore, 'hc' for high culture, 'ce' for casual entertainment, 'hy' for hypermarket & 'ad' for adults at play:\n",
      "b\n",
      "26. Which segment does shanghai restaurants food asian restaurants chinese restaurants belong to?\n",
      "Enter 'c' for Cafe, 's' for sports, 'b' for Beer Bars, 'l' for Lodging, 'su' for supermarket, 'ds' for drink stores, 'as' for airports and stations, 'cl' for clubs/lounge, 'co' for convinience, 'dr' for drugstore, 'hc' for high culture, 'ce' for casual entertainment, 'hy' for hypermarket & 'ad' for adults at play:\n",
      "c\n",
      "27. Which segment does paella restaurants food spanish restaurants paella restaurants belong to?\n",
      "Enter 'c' for Cafe, 's' for sports, 'b' for Beer Bars, 'l' for Lodging, 'su' for supermarket, 'ds' for drink stores, 'as' for airports and stations, 'cl' for clubs/lounge, 'co' for convinience, 'dr' for drugstore, 'hc' for high culture, 'ce' for casual entertainment, 'hy' for hypermarket & 'ad' for adults at play:\n",
      "c\n",
      "28. Which segment does peking duck restaurants food asian restaurants chinese restaurants belong to?\n",
      "Enter 'c' for Cafe, 's' for sports, 'b' for Beer Bars, 'l' for Lodging, 'su' for supermarket, 'ds' for drink stores, 'as' for airports and stations, 'cl' for clubs/lounge, 'co' for convinience, 'dr' for drugstore, 'hc' for high culture, 'ce' for casual entertainment, 'hy' for hypermarket & 'ad' for adults at play:\n",
      "c\n",
      "29. Which segment does south american restaurants food latin american restaurants south american restaurants belong to?\n",
      "Enter 'c' for Cafe, 's' for sports, 'b' for Beer Bars, 'l' for Lodging, 'su' for supermarket, 'ds' for drink stores, 'as' for airports and stations, 'cl' for clubs/lounge, 'co' for convinience, 'dr' for drugstore, 'hc' for high culture, 'ce' for casual entertainment, 'hy' for hypermarket & 'ad' for adults at play:\n",
      "c\n",
      "30. Which segment does delis bodegas food delis bodegas nan belong to?\n",
      "Enter 'c' for Cafe, 's' for sports, 'b' for Beer Bars, 'l' for Lodging, 'su' for supermarket, 'ds' for drink stores, 'as' for airports and stations, 'cl' for clubs/lounge, 'co' for convinience, 'dr' for drugstore, 'hc' for high culture, 'ce' for casual entertainment, 'hy' for hypermarket & 'ad' for adults at play:\n",
      "c\n",
      "31. Which segment does afghan restaurants food afghan restaurants nan belong to?\n",
      "Enter 'c' for Cafe, 's' for sports, 'b' for Beer Bars, 'l' for Lodging, 'su' for supermarket, 'ds' for drink stores, 'as' for airports and stations, 'cl' for clubs/lounge, 'co' for convinience, 'dr' for drugstore, 'hc' for high culture, 'ce' for casual entertainment, 'hy' for hypermarket & 'ad' for adults at play:\n",
      "c\n",
      "32. Which segment does tex mex restaurants food mexican restaurants tex mex restaurants belong to?\n",
      "Enter 'c' for Cafe, 's' for sports, 'b' for Beer Bars, 'l' for Lodging, 'su' for supermarket, 'ds' for drink stores, 'as' for airports and stations, 'cl' for clubs/lounge, 'co' for convinience, 'dr' for drugstore, 'hc' for high culture, 'ce' for casual entertainment, 'hy' for hypermarket & 'ad' for adults at play:\n",
      "c\n",
      "33. Which segment does bagel shops food bagel shops nan belong to?\n",
      "Enter 'c' for Cafe, 's' for sports, 'b' for Beer Bars, 'l' for Lodging, 'su' for supermarket, 'ds' for drink stores, 'as' for airports and stations, 'cl' for clubs/lounge, 'co' for convinience, 'dr' for drugstore, 'hc' for high culture, 'ce' for casual entertainment, 'hy' for hypermarket & 'ad' for adults at play:\n",
      "c\n",
      "34. Which segment does soup places food soup places nan belong to?\n",
      "Enter 'c' for Cafe, 's' for sports, 'b' for Beer Bars, 'l' for Lodging, 'su' for supermarket, 'ds' for drink stores, 'as' for airports and stations, 'cl' for clubs/lounge, 'co' for convinience, 'dr' for drugstore, 'hc' for high culture, 'ce' for casual entertainment, 'hy' for hypermarket & 'ad' for adults at play:\n",
      "c\n",
      "35. Which segment does tiki bars nightlife spots bars tiki bars belong to?\n",
      "Enter 'c' for Cafe, 's' for sports, 'b' for Beer Bars, 'l' for Lodging, 'su' for supermarket, 'ds' for drink stores, 'as' for airports and stations, 'cl' for clubs/lounge, 'co' for convinience, 'dr' for drugstore, 'hc' for high culture, 'ce' for casual entertainment, 'hy' for hypermarket & 'ad' for adults at play:\n",
      "b\n",
      "36. Which segment does north indian restaurants food indian restaurants north indian restaurants belong to?\n",
      "Enter 'c' for Cafe, 's' for sports, 'b' for Beer Bars, 'l' for Lodging, 'su' for supermarket, 'ds' for drink stores, 'as' for airports and stations, 'cl' for clubs/lounge, 'co' for convinience, 'dr' for drugstore, 'hc' for high culture, 'ce' for casual entertainment, 'hy' for hypermarket & 'ad' for adults at play:\n",
      "c\n",
      "37. Which segment does moroccan restaurants food mediterranean restaurants moroccan restaurants belong to?\n",
      "Enter 'c' for Cafe, 's' for sports, 'b' for Beer Bars, 'l' for Lodging, 'su' for supermarket, 'ds' for drink stores, 'as' for airports and stations, 'cl' for clubs/lounge, 'co' for convinience, 'dr' for drugstore, 'hc' for high culture, 'ce' for casual entertainment, 'hy' for hypermarket & 'ad' for adults at play:\n",
      "c\n",
      "38. Which segment does gastropubs food gastropubs nan belong to?\n",
      "Enter 'c' for Cafe, 's' for sports, 'b' for Beer Bars, 'l' for Lodging, 'su' for supermarket, 'ds' for drink stores, 'as' for airports and stations, 'cl' for clubs/lounge, 'co' for convinience, 'dr' for drugstore, 'hc' for high culture, 'ce' for casual entertainment, 'hy' for hypermarket & 'ad' for adults at play:\n",
      "c\n",
      "39. Which segment does salvadoran restaurants food latin american restaurants salvadoran restaurants belong to?\n",
      "Enter 'c' for Cafe, 's' for sports, 'b' for Beer Bars, 'l' for Lodging, 'su' for supermarket, 'ds' for drink stores, 'as' for airports and stations, 'cl' for clubs/lounge, 'co' for convinience, 'dr' for drugstore, 'hc' for high culture, 'ce' for casual entertainment, 'hy' for hypermarket & 'ad' for adults at play:\n",
      "c\n",
      "40. Which segment does donburi restaurants food asian restaurants japanese restaurants belong to?\n",
      "Enter 'c' for Cafe, 's' for sports, 'b' for Beer Bars, 'l' for Lodging, 'su' for supermarket, 'ds' for drink stores, 'as' for airports and stations, 'cl' for clubs/lounge, 'co' for convinience, 'dr' for drugstore, 'hc' for high culture, 'ce' for casual entertainment, 'hy' for hypermarket & 'ad' for adults at play:\n",
      "c\n",
      "41. Which segment does hookah bars nightlife spots bars hookah bars belong to?\n",
      "Enter 'c' for Cafe, 's' for sports, 'b' for Beer Bars, 'l' for Lodging, 'su' for supermarket, 'ds' for drink stores, 'as' for airports and stations, 'cl' for clubs/lounge, 'co' for convinience, 'dr' for drugstore, 'hc' for high culture, 'ce' for casual entertainment, 'hy' for hypermarket & 'ad' for adults at play:\n",
      "b\n",
      "42. Which segment does dessert shops food dessert shops nan belong to?\n",
      "Enter 'c' for Cafe, 's' for sports, 'b' for Beer Bars, 'l' for Lodging, 'su' for supermarket, 'ds' for drink stores, 'as' for airports and stations, 'cl' for clubs/lounge, 'co' for convinience, 'dr' for drugstore, 'hc' for high culture, 'ce' for casual entertainment, 'hy' for hypermarket & 'ad' for adults at play:\n",
      "c\n",
      "43. Which segment does snack places food snack places nan belong to?\n",
      "Enter 'c' for Cafe, 's' for sports, 'b' for Beer Bars, 'l' for Lodging, 'su' for supermarket, 'ds' for drink stores, 'as' for airports and stations, 'cl' for clubs/lounge, 'co' for convinience, 'dr' for drugstore, 'hc' for high culture, 'ce' for casual entertainment, 'hy' for hypermarket & 'ad' for adults at play:\n",
      "c\n",
      "44. Which segment does bubble tea shops food bubble tea shops nan belong to?\n",
      "Enter 'c' for Cafe, 's' for sports, 'b' for Beer Bars, 'l' for Lodging, 'su' for supermarket, 'ds' for drink stores, 'as' for airports and stations, 'cl' for clubs/lounge, 'co' for convinience, 'dr' for drugstore, 'hc' for high culture, 'ce' for casual entertainment, 'hy' for hypermarket & 'ad' for adults at play:\n",
      "c\n",
      "45. Which segment does salad places food salad places nan belong to?\n",
      "Enter 'c' for Cafe, 's' for sports, 'b' for Beer Bars, 'l' for Lodging, 'su' for supermarket, 'ds' for drink stores, 'as' for airports and stations, 'cl' for clubs/lounge, 'co' for convinience, 'dr' for drugstore, 'hc' for high culture, 'ce' for casual entertainment, 'hy' for hypermarket & 'ad' for adults at play:\n",
      "c\n",
      "46. Which segment does new american restaurants food american restaurants new american restaurants belong to?\n",
      "Enter 'c' for Cafe, 's' for sports, 'b' for Beer Bars, 'l' for Lodging, 'su' for supermarket, 'ds' for drink stores, 'as' for airports and stations, 'cl' for clubs/lounge, 'co' for convinience, 'dr' for drugstore, 'hc' for high culture, 'ce' for casual entertainment, 'hy' for hypermarket & 'ad' for adults at play:\n",
      "c\n",
      "47. Which segment does hong kong restaurants food asian restaurants chinese restaurants belong to?\n",
      "Enter 'c' for Cafe, 's' for sports, 'b' for Beer Bars, 'l' for Lodging, 'su' for supermarket, 'ds' for drink stores, 'as' for airports and stations, 'cl' for clubs/lounge, 'co' for convinience, 'dr' for drugstore, 'hc' for high culture, 'ce' for casual entertainment, 'hy' for hypermarket & 'ad' for adults at play:\n",
      "c\n",
      "48. Which segment does tapas restaurants food spanish restaurants tapas restaurants belong to?\n",
      "Enter 'c' for Cafe, 's' for sports, 'b' for Beer Bars, 'l' for Lodging, 'su' for supermarket, 'ds' for drink stores, 'as' for airports and stations, 'cl' for clubs/lounge, 'co' for convinience, 'dr' for drugstore, 'hc' for high culture, 'ce' for casual entertainment, 'hy' for hypermarket & 'ad' for adults at play:\n",
      "c\n",
      "49. Which segment does taiwanese restaurants food asian restaurants chinese restaurants belong to?\n",
      "Enter 'c' for Cafe, 's' for sports, 'b' for Beer Bars, 'l' for Lodging, 'su' for supermarket, 'ds' for drink stores, 'as' for airports and stations, 'cl' for clubs/lounge, 'co' for convinience, 'dr' for drugstore, 'hc' for high culture, 'ce' for casual entertainment, 'hy' for hypermarket & 'ad' for adults at play:\n",
      "c\n",
      "50. Which segment does halal restaurants food halal restaurants nan belong to?\n",
      "Enter 'c' for Cafe, 's' for sports, 'b' for Beer Bars, 'l' for Lodging, 'su' for supermarket, 'ds' for drink stores, 'as' for airports and stations, 'cl' for clubs/lounge, 'co' for convinience, 'dr' for drugstore, 'hc' for high culture, 'ce' for casual entertainment, 'hy' for hypermarket & 'ad' for adults at play:\n",
      "c\n",
      "51. Which segment does shabu shabu restaurants food asian restaurants japanese restaurants belong to?\n",
      "Enter 'c' for Cafe, 's' for sports, 'b' for Beer Bars, 'l' for Lodging, 'su' for supermarket, 'ds' for drink stores, 'as' for airports and stations, 'cl' for clubs/lounge, 'co' for convinience, 'dr' for drugstore, 'hc' for high culture, 'ce' for casual entertainment, 'hy' for hypermarket & 'ad' for adults at play:\n",
      "c\n",
      "52. Which segment does wine bars nightlife spots bars wine bars belong to?\n",
      "Enter 'c' for Cafe, 's' for sports, 'b' for Beer Bars, 'l' for Lodging, 'su' for supermarket, 'ds' for drink stores, 'as' for airports and stations, 'cl' for clubs/lounge, 'co' for convinience, 'dr' for drugstore, 'hc' for high culture, 'ce' for casual entertainment, 'hy' for hypermarket & 'ad' for adults at play:\n",
      "b\n",
      "53. Which segment does noodle houses food asian restaurants noodle houses belong to?\n",
      "Enter 'c' for Cafe, 's' for sports, 'b' for Beer Bars, 'l' for Lodging, 'su' for supermarket, 'ds' for drink stores, 'as' for airports and stations, 'cl' for clubs/lounge, 'co' for convinience, 'dr' for drugstore, 'hc' for high culture, 'ce' for casual entertainment, 'hy' for hypermarket & 'ad' for adults at play:\n",
      "c\n",
      "54. Which segment does latin american restaurants food latin american restaurants nan belong to?\n",
      "Enter 'c' for Cafe, 's' for sports, 'b' for Beer Bars, 'l' for Lodging, 'su' for supermarket, 'ds' for drink stores, 'as' for airports and stations, 'cl' for clubs/lounge, 'co' for convinience, 'dr' for drugstore, 'hc' for high culture, 'ce' for casual entertainment, 'hy' for hypermarket & 'ad' for adults at play:\n",
      "c\n",
      "55. Which segment does pet caf food pet caf nan belong to?\n",
      "Enter 'c' for Cafe, 's' for sports, 'b' for Beer Bars, 'l' for Lodging, 'su' for supermarket, 'ds' for drink stores, 'as' for airports and stations, 'cl' for clubs/lounge, 'co' for convinience, 'dr' for drugstore, 'hc' for high culture, 'ce' for casual entertainment, 'hy' for hypermarket & 'ad' for adults at play:\n",
      "c\n",
      "56. Which segment does fish chips shops food fish chips shops nan belong to?\n",
      "Enter 'c' for Cafe, 's' for sports, 'b' for Beer Bars, 'l' for Lodging, 'su' for supermarket, 'ds' for drink stores, 'as' for airports and stations, 'cl' for clubs/lounge, 'co' for convinience, 'dr' for drugstore, 'hc' for high culture, 'ce' for casual entertainment, 'hy' for hypermarket & 'ad' for adults at play:\n",
      "c\n",
      "57. Which segment does souvlaki shops food greek restaurants souvlaki shops belong to?\n",
      "Enter 'c' for Cafe, 's' for sports, 'b' for Beer Bars, 'l' for Lodging, 'su' for supermarket, 'ds' for drink stores, 'as' for airports and stations, 'cl' for clubs/lounge, 'co' for convinience, 'dr' for drugstore, 'hc' for high culture, 'ce' for casual entertainment, 'hy' for hypermarket & 'ad' for adults at play:\n",
      "c\n",
      "58. Which segment does ramen restaurants food asian restaurants japanese restaurants belong to?\n",
      "Enter 'c' for Cafe, 's' for sports, 'b' for Beer Bars, 'l' for Lodging, 'su' for supermarket, 'ds' for drink stores, 'as' for airports and stations, 'cl' for clubs/lounge, 'co' for convinience, 'dr' for drugstore, 'hc' for high culture, 'ce' for casual entertainment, 'hy' for hypermarket & 'ad' for adults at play:\n",
      "c\n",
      "59. Which segment does sushi restaurants food asian restaurants japanese restaurants belong to?\n",
      "Enter 'c' for Cafe, 's' for sports, 'b' for Beer Bars, 'l' for Lodging, 'su' for supermarket, 'ds' for drink stores, 'as' for airports and stations, 'cl' for clubs/lounge, 'co' for convinience, 'dr' for drugstore, 'hc' for high culture, 'ce' for casual entertainment, 'hy' for hypermarket & 'ad' for adults at play:\n",
      "c\n",
      "60. Which segment does breakfast spots food breakfast spots nan belong to?\n",
      "Enter 'c' for Cafe, 's' for sports, 'b' for Beer Bars, 'l' for Lodging, 'su' for supermarket, 'ds' for drink stores, 'as' for airports and stations, 'cl' for clubs/lounge, 'co' for convinience, 'dr' for drugstore, 'hc' for high culture, 'ce' for casual entertainment, 'hy' for hypermarket & 'ad' for adults at play:\n",
      "c\n",
      "61. Which segment does creperies food creperies nan belong to?\n",
      "Enter 'c' for Cafe, 's' for sports, 'b' for Beer Bars, 'l' for Lodging, 'su' for supermarket, 'ds' for drink stores, 'as' for airports and stations, 'cl' for clubs/lounge, 'co' for convinience, 'dr' for drugstore, 'hc' for high culture, 'ce' for casual entertainment, 'hy' for hypermarket & 'ad' for adults at play:\n",
      "c\n",
      "62. Which segment does cambodian restaurants food asian restaurants cambodian restaurants belong to?\n",
      "Enter 'c' for Cafe, 's' for sports, 'b' for Beer Bars, 'l' for Lodging, 'su' for supermarket, 'ds' for drink stores, 'as' for airports and stations, 'cl' for clubs/lounge, 'co' for convinience, 'dr' for drugstore, 'hc' for high culture, 'ce' for casual entertainment, 'hy' for hypermarket & 'ad' for adults at play:\n",
      "c\n",
      "63. Which segment does mongolian restaurants food asian restaurants mongolian restaurants belong to?\n",
      "Enter 'c' for Cafe, 's' for sports, 'b' for Beer Bars, 'l' for Lodging, 'su' for supermarket, 'ds' for drink stores, 'as' for airports and stations, 'cl' for clubs/lounge, 'co' for convinience, 'dr' for drugstore, 'hc' for high culture, 'ce' for casual entertainment, 'hy' for hypermarket & 'ad' for adults at play:\n",
      "c\n",
      "64. Which segment does caribbean restaurants food caribbean restaurants nan belong to?\n",
      "Enter 'c' for Cafe, 's' for sports, 'b' for Beer Bars, 'l' for Lodging, 'su' for supermarket, 'ds' for drink stores, 'as' for airports and stations, 'cl' for clubs/lounge, 'co' for convinience, 'dr' for drugstore, 'hc' for high culture, 'ce' for casual entertainment, 'hy' for hypermarket & 'ad' for adults at play:\n",
      "c\n",
      "65. Which segment does bars nightlife spots bars nan belong to?\n",
      "Enter 'c' for Cafe, 's' for sports, 'b' for Beer Bars, 'l' for Lodging, 'su' for supermarket, 'ds' for drink stores, 'as' for airports and stations, 'cl' for clubs/lounge, 'co' for convinience, 'dr' for drugstore, 'hc' for high culture, 'ce' for casual entertainment, 'hy' for hypermarket & 'ad' for adults at play:\n",
      "b\n",
      "66. Which segment does gluten free restaurants food gluten free restaurants nan belong to?\n",
      "Enter 'c' for Cafe, 's' for sports, 'b' for Beer Bars, 'l' for Lodging, 'su' for supermarket, 'ds' for drink stores, 'as' for airports and stations, 'cl' for clubs/lounge, 'co' for convinience, 'dr' for drugstore, 'hc' for high culture, 'ce' for casual entertainment, 'hy' for hypermarket & 'ad' for adults at play:\n",
      "c\n",
      "67. Which segment does belgian restaurants food belgian restaurants nan belong to?\n",
      "Enter 'c' for Cafe, 's' for sports, 'b' for Beer Bars, 'l' for Lodging, 'su' for supermarket, 'ds' for drink stores, 'as' for airports and stations, 'cl' for clubs/lounge, 'co' for convinience, 'dr' for drugstore, 'hc' for high culture, 'ce' for casual entertainment, 'hy' for hypermarket & 'ad' for adults at play:\n",
      "c\n",
      "68. Which segment does kosher restaurants food jewish restaurants kosher restaurants belong to?\n",
      "Enter 'c' for Cafe, 's' for sports, 'b' for Beer Bars, 'l' for Lodging, 'su' for supermarket, 'ds' for drink stores, 'as' for airports and stations, 'cl' for clubs/lounge, 'co' for convinience, 'dr' for drugstore, 'hc' for high culture, 'ce' for casual entertainment, 'hy' for hypermarket & 'ad' for adults at play:\n",
      "c\n",
      "69. Which segment does scandinavian restaurants food scandinavian restaurants nan belong to?\n",
      "Enter 'c' for Cafe, 's' for sports, 'b' for Beer Bars, 'l' for Lodging, 'su' for supermarket, 'ds' for drink stores, 'as' for airports and stations, 'cl' for clubs/lounge, 'co' for convinience, 'dr' for drugstore, 'hc' for high culture, 'ce' for casual entertainment, 'hy' for hypermarket & 'ad' for adults at play:\n",
      "c\n",
      "70. Which segment does cantonese restaurants food asian restaurants chinese restaurants belong to?\n",
      "Enter 'c' for Cafe, 's' for sports, 'b' for Beer Bars, 'l' for Lodging, 'su' for supermarket, 'ds' for drink stores, 'as' for airports and stations, 'cl' for clubs/lounge, 'co' for convinience, 'dr' for drugstore, 'hc' for high culture, 'ce' for casual entertainment, 'hy' for hypermarket & 'ad' for adults at play:\n",
      "c\n",
      "71. Which segment does bbq joints food bbq joints nan belong to?\n",
      "Enter 'c' for Cafe, 's' for sports, 'b' for Beer Bars, 'l' for Lodging, 'su' for supermarket, 'ds' for drink stores, 'as' for airports and stations, 'cl' for clubs/lounge, 'co' for convinience, 'dr' for drugstore, 'hc' for high culture, 'ce' for casual entertainment, 'hy' for hypermarket & 'ad' for adults at play:\n",
      "c\n",
      "72. Which segment does fried chicken joints food fried chicken joints nan belong to?\n",
      "Enter 'c' for Cafe, 's' for sports, 'b' for Beer Bars, 'l' for Lodging, 'su' for supermarket, 'ds' for drink stores, 'as' for airports and stations, 'cl' for clubs/lounge, 'co' for convinience, 'dr' for drugstore, 'hc' for high culture, 'ce' for casual entertainment, 'hy' for hypermarket & 'ad' for adults at play:\n",
      "c\n",
      "73. Which segment does spanish restaurants food spanish restaurants nan belong to?\n",
      "Enter 'c' for Cafe, 's' for sports, 'b' for Beer Bars, 'l' for Lodging, 'su' for supermarket, 'ds' for drink stores, 'as' for airports and stations, 'cl' for clubs/lounge, 'co' for convinience, 'dr' for drugstore, 'hc' for high culture, 'ce' for casual entertainment, 'hy' for hypermarket & 'ad' for adults at play:\n",
      "c\n",
      "74. Which segment does cafeterias food cafeterias nan belong to?\n",
      "Enter 'c' for Cafe, 's' for sports, 'b' for Beer Bars, 'l' for Lodging, 'su' for supermarket, 'ds' for drink stores, 'as' for airports and stations, 'cl' for clubs/lounge, 'co' for convinience, 'dr' for drugstore, 'hc' for high culture, 'ce' for casual entertainment, 'hy' for hypermarket & 'ad' for adults at play:\n",
      "c\n",
      "75. Which segment does caf food caf nan belong to?\n",
      "Enter 'c' for Cafe, 's' for sports, 'b' for Beer Bars, 'l' for Lodging, 'su' for supermarket, 'ds' for drink stores, 'as' for airports and stations, 'cl' for clubs/lounge, 'co' for convinience, 'dr' for drugstore, 'hc' for high culture, 'ce' for casual entertainment, 'hy' for hypermarket & 'ad' for adults at play:\n",
      "c\n",
      "76. Which segment does szechuan restaurants food asian restaurants chinese restaurants belong to?\n",
      "Enter 'c' for Cafe, 's' for sports, 'b' for Beer Bars, 'l' for Lodging, 'su' for supermarket, 'ds' for drink stores, 'as' for airports and stations, 'cl' for clubs/lounge, 'co' for convinience, 'dr' for drugstore, 'hc' for high culture, 'ce' for casual entertainment, 'hy' for hypermarket & 'ad' for adults at play:\n",
      "c\n",
      "77. Which segment does ethiopian restaurants food african restaurants ethiopian restaurants belong to?\n",
      "Enter 'c' for Cafe, 's' for sports, 'b' for Beer Bars, 'l' for Lodging, 'su' for supermarket, 'ds' for drink stores, 'as' for airports and stations, 'cl' for clubs/lounge, 'co' for convinience, 'dr' for drugstore, 'hc' for high culture, 'ce' for casual entertainment, 'hy' for hypermarket & 'ad' for adults at play:\n",
      "c\n",
      "78. Which segment does burrito places food mexican restaurants burrito places belong to?\n",
      "Enter 'c' for Cafe, 's' for sports, 'b' for Beer Bars, 'l' for Lodging, 'su' for supermarket, 'ds' for drink stores, 'as' for airports and stations, 'cl' for clubs/lounge, 'co' for convinience, 'dr' for drugstore, 'hc' for high culture, 'ce' for casual entertainment, 'hy' for hypermarket & 'ad' for adults at play:\n",
      "c\n",
      "79. Which segment does donut shops food donut shops nan belong to?\n",
      "Enter 'c' for Cafe, 's' for sports, 'b' for Beer Bars, 'l' for Lodging, 'su' for supermarket, 'ds' for drink stores, 'as' for airports and stations, 'cl' for clubs/lounge, 'co' for convinience, 'dr' for drugstore, 'hc' for high culture, 'ce' for casual entertainment, 'hy' for hypermarket & 'ad' for adults at play:\n",
      "c\n",
      "80. Which segment does korean restaurants food asian restaurants korean restaurants belong to?\n",
      "Enter 'c' for Cafe, 's' for sports, 'b' for Beer Bars, 'l' for Lodging, 'su' for supermarket, 'ds' for drink stores, 'as' for airports and stations, 'cl' for clubs/lounge, 'co' for convinience, 'dr' for drugstore, 'hc' for high culture, 'ce' for casual entertainment, 'hy' for hypermarket & 'ad' for adults at play:\n",
      "c\n",
      "81. Which segment does food stands food food stands nan belong to?\n",
      "Enter 'c' for Cafe, 's' for sports, 'b' for Beer Bars, 'l' for Lodging, 'su' for supermarket, 'ds' for drink stores, 'as' for airports and stations, 'cl' for clubs/lounge, 'co' for convinience, 'dr' for drugstore, 'hc' for high culture, 'ce' for casual entertainment, 'hy' for hypermarket & 'ad' for adults at play:\n",
      "c\n",
      "82. Which segment does hotpot restaurants food asian restaurants hotpot restaurants belong to?\n",
      "Enter 'c' for Cafe, 's' for sports, 'b' for Beer Bars, 'l' for Lodging, 'su' for supermarket, 'ds' for drink stores, 'as' for airports and stations, 'cl' for clubs/lounge, 'co' for convinience, 'dr' for drugstore, 'hc' for high culture, 'ce' for casual entertainment, 'hy' for hypermarket & 'ad' for adults at play:\n",
      "c\n",
      "83. Which segment does burger joints food burger joints nan belong to?\n",
      "Enter 'c' for Cafe, 's' for sports, 'b' for Beer Bars, 'l' for Lodging, 'su' for supermarket, 'ds' for drink stores, 'as' for airports and stations, 'cl' for clubs/lounge, 'co' for convinience, 'dr' for drugstore, 'hc' for high culture, 'ce' for casual entertainment, 'hy' for hypermarket & 'ad' for adults at play:\n",
      "c\n",
      "84. Which segment does indian restaurants food indian restaurants nan belong to?\n",
      "Enter 'c' for Cafe, 's' for sports, 'b' for Beer Bars, 'l' for Lodging, 'su' for supermarket, 'ds' for drink stores, 'as' for airports and stations, 'cl' for clubs/lounge, 'co' for convinience, 'dr' for drugstore, 'hc' for high culture, 'ce' for casual entertainment, 'hy' for hypermarket & 'ad' for adults at play:\n",
      "c\n",
      "85. Which segment does modern european restaurants food modern european restaurants nan belong to?\n",
      "Enter 'c' for Cafe, 's' for sports, 'b' for Beer Bars, 'l' for Lodging, 'su' for supermarket, 'ds' for drink stores, 'as' for airports and stations, 'cl' for clubs/lounge, 'co' for convinience, 'dr' for drugstore, 'hc' for high culture, 'ce' for casual entertainment, 'hy' for hypermarket & 'ad' for adults at play:\n",
      "c\n",
      "86. Which segment does hot dog joints food hot dog joints nan belong to?\n",
      "Enter 'c' for Cafe, 's' for sports, 'b' for Beer Bars, 'l' for Lodging, 'su' for supermarket, 'ds' for drink stores, 'as' for airports and stations, 'cl' for clubs/lounge, 'co' for convinience, 'dr' for drugstore, 'hc' for high culture, 'ce' for casual entertainment, 'hy' for hypermarket & 'ad' for adults at play:\n",
      "c\n",
      "87. Which segment does cajun creole restaurants food cajun creole restaurants nan belong to?\n",
      "Enter 'c' for Cafe, 's' for sports, 'b' for Beer Bars, 'l' for Lodging, 'su' for supermarket, 'ds' for drink stores, 'as' for airports and stations, 'cl' for clubs/lounge, 'co' for convinience, 'dr' for drugstore, 'hc' for high culture, 'ce' for casual entertainment, 'hy' for hypermarket & 'ad' for adults at play:\n",
      "c\n",
      "88. Which segment does italian restaurants food italian restaurants nan belong to?\n",
      "Enter 'c' for Cafe, 's' for sports, 'b' for Beer Bars, 'l' for Lodging, 'su' for supermarket, 'ds' for drink stores, 'as' for airports and stations, 'cl' for clubs/lounge, 'co' for convinience, 'dr' for drugstore, 'hc' for high culture, 'ce' for casual entertainment, 'hy' for hypermarket & 'ad' for adults at play:\n",
      "c\n",
      "89. Which segment does  nightlife nightlife spots nightlife nan belong to?\n",
      "Enter 'c' for Cafe, 's' for sports, 'b' for Beer Bars, 'l' for Lodging, 'su' for supermarket, 'ds' for drink stores, 'as' for airports and stations, 'cl' for clubs/lounge, 'co' for convinience, 'dr' for drugstore, 'hc' for high culture, 'ce' for casual entertainment, 'hy' for hypermarket & 'ad' for adults at play:\n",
      "b\n",
      "90. Which segment does hawaiian restaurants food hawaiian restaurants nan belong to?\n",
      "Enter 'c' for Cafe, 's' for sports, 'b' for Beer Bars, 'l' for Lodging, 'su' for supermarket, 'ds' for drink stores, 'as' for airports and stations, 'cl' for clubs/lounge, 'co' for convinience, 'dr' for drugstore, 'hc' for high culture, 'ce' for casual entertainment, 'hy' for hypermarket & 'ad' for adults at play:\n",
      "c\n",
      "91. Which segment does american restaurants food american restaurants nan belong to?\n",
      "Enter 'c' for Cafe, 's' for sports, 'b' for Beer Bars, 'l' for Lodging, 'su' for supermarket, 'ds' for drink stores, 'as' for airports and stations, 'cl' for clubs/lounge, 'co' for convinience, 'dr' for drugstore, 'hc' for high culture, 'ce' for casual entertainment, 'hy' for hypermarket & 'ad' for adults at play:\n",
      "c\n",
      "92. Which segment does eastern european restaurants food eastern european restaurants nan belong to?\n",
      "Enter 'c' for Cafe, 's' for sports, 'b' for Beer Bars, 'l' for Lodging, 'su' for supermarket, 'ds' for drink stores, 'as' for airports and stations, 'cl' for clubs/lounge, 'co' for convinience, 'dr' for drugstore, 'hc' for high culture, 'ce' for casual entertainment, 'hy' for hypermarket & 'ad' for adults at play:\n",
      "c\n",
      "93. Which segment does malay restaurants food asian restaurants malay restaurants belong to?\n",
      "Enter 'c' for Cafe, 's' for sports, 'b' for Beer Bars, 'l' for Lodging, 'su' for supermarket, 'ds' for drink stores, 'as' for airports and stations, 'cl' for clubs/lounge, 'co' for convinience, 'dr' for drugstore, 'hc' for high culture, 'ce' for casual entertainment, 'hy' for hypermarket & 'ad' for adults at play:\n",
      "c\n",
      "94. Which segment does udon restaurants food asian restaurants japanese restaurants belong to?\n",
      "Enter 'c' for Cafe, 's' for sports, 'b' for Beer Bars, 'l' for Lodging, 'su' for supermarket, 'ds' for drink stores, 'as' for airports and stations, 'cl' for clubs/lounge, 'co' for convinience, 'dr' for drugstore, 'hc' for high culture, 'ce' for casual entertainment, 'hy' for hypermarket & 'ad' for adults at play:\n",
      "c\n",
      "95. Which segment does romanian restaurants food eastern european restaurants romanian restaurants belong to?\n",
      "Enter 'c' for Cafe, 's' for sports, 'b' for Beer Bars, 'l' for Lodging, 'su' for supermarket, 'ds' for drink stores, 'as' for airports and stations, 'cl' for clubs/lounge, 'co' for convinience, 'dr' for drugstore, 'hc' for high culture, 'ce' for casual entertainment, 'hy' for hypermarket & 'ad' for adults at play:\n",
      "c\n",
      "96. Which segment does south indian restaurants food indian restaurants south indian restaurants belong to?\n",
      "Enter 'c' for Cafe, 's' for sports, 'b' for Beer Bars, 'l' for Lodging, 'su' for supermarket, 'ds' for drink stores, 'as' for airports and stations, 'cl' for clubs/lounge, 'co' for convinience, 'dr' for drugstore, 'hc' for high culture, 'ce' for casual entertainment, 'hy' for hypermarket & 'ad' for adults at play:\n",
      "c\n",
      "97. Which segment does dive bars nightlife spots bars dive bars belong to?\n",
      "Enter 'c' for Cafe, 's' for sports, 'b' for Beer Bars, 'l' for Lodging, 'su' for supermarket, 'ds' for drink stores, 'as' for airports and stations, 'cl' for clubs/lounge, 'co' for convinience, 'dr' for drugstore, 'hc' for high culture, 'ce' for casual entertainment, 'hy' for hypermarket & 'ad' for adults at play:\n",
      "b\n",
      "98. Which segment does thai restaurants food asian restaurants thai restaurants belong to?\n",
      "Enter 'c' for Cafe, 's' for sports, 'b' for Beer Bars, 'l' for Lodging, 'su' for supermarket, 'ds' for drink stores, 'as' for airports and stations, 'cl' for clubs/lounge, 'co' for convinience, 'dr' for drugstore, 'hc' for high culture, 'ce' for casual entertainment, 'hy' for hypermarket & 'ad' for adults at play:\n",
      "c\n",
      "99. Which segment does nightlife spots nightlife spots nan nan belong to?\n",
      "Enter 'c' for Cafe, 's' for sports, 'b' for Beer Bars, 'l' for Lodging, 'su' for supermarket, 'ds' for drink stores, 'as' for airports and stations, 'cl' for clubs/lounge, 'co' for convinience, 'dr' for drugstore, 'hc' for high culture, 'ce' for casual entertainment, 'hy' for hypermarket & 'ad' for adults at play:\n",
      "b\n",
      "100. Which segment does beach bars nightlife spots bars beach bars belong to?\n",
      "Enter 'c' for Cafe, 's' for sports, 'b' for Beer Bars, 'l' for Lodging, 'su' for supermarket, 'ds' for drink stores, 'as' for airports and stations, 'cl' for clubs/lounge, 'co' for convinience, 'dr' for drugstore, 'hc' for high culture, 'ce' for casual entertainment, 'hy' for hypermarket & 'ad' for adults at play:\n",
      "b\n",
      "101. Which segment does cocktail bars nightlife spots bars cocktail bars belong to?\n",
      "Enter 'c' for Cafe, 's' for sports, 'b' for Beer Bars, 'l' for Lodging, 'su' for supermarket, 'ds' for drink stores, 'as' for airports and stations, 'cl' for clubs/lounge, 'co' for convinience, 'dr' for drugstore, 'hc' for high culture, 'ce' for casual entertainment, 'hy' for hypermarket & 'ad' for adults at play:\n",
      "b\n",
      "102. Which segment does english restaurants food english restaurants nan belong to?\n",
      "Enter 'c' for Cafe, 's' for sports, 'b' for Beer Bars, 'l' for Lodging, 'su' for supermarket, 'ds' for drink stores, 'as' for airports and stations, 'cl' for clubs/lounge, 'co' for convinience, 'dr' for drugstore, 'hc' for high culture, 'ce' for casual entertainment, 'hy' for hypermarket & 'ad' for adults at play:\n",
      "c\n",
      "103. Which segment does speakeasies nightlife spots speakeasies nan belong to?\n",
      "Enter 'c' for Cafe, 's' for sports, 'b' for Beer Bars, 'l' for Lodging, 'su' for supermarket, 'ds' for drink stores, 'as' for airports and stations, 'cl' for clubs/lounge, 'co' for convinience, 'dr' for drugstore, 'hc' for high culture, 'ce' for casual entertainment, 'hy' for hypermarket & 'ad' for adults at play:\n",
      "b\n",
      "104. Which segment does southern soul food restaurants food southern soul food restaurants nan belong to?\n",
      "Enter 'c' for Cafe, 's' for sports, 'b' for Beer Bars, 'l' for Lodging, 'su' for supermarket, 'ds' for drink stores, 'as' for airports and stations, 'cl' for clubs/lounge, 'co' for convinience, 'dr' for drugstore, 'hc' for high culture, 'ce' for casual entertainment, 'hy' for hypermarket & 'ad' for adults at play:\n",
      "c\n",
      "105. Which segment does falafel restaurants food falafel restaurants nan belong to?\n",
      "Enter 'c' for Cafe, 's' for sports, 'b' for Beer Bars, 'l' for Lodging, 'su' for supermarket, 'ds' for drink stores, 'as' for airports and stations, 'cl' for clubs/lounge, 'co' for convinience, 'dr' for drugstore, 'hc' for high culture, 'ce' for casual entertainment, 'hy' for hypermarket & 'ad' for adults at play:\n",
      "c\n",
      "106. Which segment does nightclubs nightlife spots nightclubs nan belong to?\n",
      "Enter 'c' for Cafe, 's' for sports, 'b' for Beer Bars, 'l' for Lodging, 'su' for supermarket, 'ds' for drink stores, 'as' for airports and stations, 'cl' for clubs/lounge, 'co' for convinience, 'dr' for drugstore, 'hc' for high culture, 'ce' for casual entertainment, 'hy' for hypermarket & 'ad' for adults at play:\n",
      "cl\n",
      "107. Which segment does karaoke bars nightlife spots bars karaoke bars belong to?\n",
      "Enter 'c' for Cafe, 's' for sports, 'b' for Beer Bars, 'l' for Lodging, 'su' for supermarket, 'ds' for drink stores, 'as' for airports and stations, 'cl' for clubs/lounge, 'co' for convinience, 'dr' for drugstore, 'hc' for high culture, 'ce' for casual entertainment, 'hy' for hypermarket & 'ad' for adults at play:\n",
      "b\n",
      "108. Which segment does seafood restaurants food seafood restaurants nan belong to?\n",
      "Enter 'c' for Cafe, 's' for sports, 'b' for Beer Bars, 'l' for Lodging, 'su' for supermarket, 'ds' for drink stores, 'as' for airports and stations, 'cl' for clubs/lounge, 'co' for convinience, 'dr' for drugstore, 'hc' for high culture, 'ce' for casual entertainment, 'hy' for hypermarket & 'ad' for adults at play:\n",
      "c\n",
      "109. Which segment does middle eastern restaurants food middle eastern restaurants nan belong to?\n",
      "Enter 'c' for Cafe, 's' for sports, 'b' for Beer Bars, 'l' for Lodging, 'su' for supermarket, 'ds' for drink stores, 'as' for airports and stations, 'cl' for clubs/lounge, 'co' for convinience, 'dr' for drugstore, 'hc' for high culture, 'ce' for casual entertainment, 'hy' for hypermarket & 'ad' for adults at play:\n",
      "c\n",
      "110. Which segment does frozen yogurt shops food dessert shops frozen yogurt shops belong to?\n",
      "Enter 'c' for Cafe, 's' for sports, 'b' for Beer Bars, 'l' for Lodging, 'su' for supermarket, 'ds' for drink stores, 'as' for airports and stations, 'cl' for clubs/lounge, 'co' for convinience, 'dr' for drugstore, 'hc' for high culture, 'ce' for casual entertainment, 'hy' for hypermarket & 'ad' for adults at play:\n",
      "c\n",
      "111. Which segment does himalayan restaurants food asian restaurants himalayan restaurants belong to?\n",
      "Enter 'c' for Cafe, 's' for sports, 'b' for Beer Bars, 'l' for Lodging, 'su' for supermarket, 'ds' for drink stores, 'as' for airports and stations, 'cl' for clubs/lounge, 'co' for convinience, 'dr' for drugstore, 'hc' for high culture, 'ce' for casual entertainment, 'hy' for hypermarket & 'ad' for adults at play:\n",
      "c\n",
      "112. Which segment does mexican restaurants food mexican restaurants nan belong to?\n",
      "Enter 'c' for Cafe, 's' for sports, 'b' for Beer Bars, 'l' for Lodging, 'su' for supermarket, 'ds' for drink stores, 'as' for airports and stations, 'cl' for clubs/lounge, 'co' for convinience, 'dr' for drugstore, 'hc' for high culture, 'ce' for casual entertainment, 'hy' for hypermarket & 'ad' for adults at play:\n",
      "c\n",
      "113. Which segment does ice cream shops food dessert shops ice cream shops belong to?\n",
      "Enter 'c' for Cafe, 's' for sports, 'b' for Beer Bars, 'l' for Lodging, 'su' for supermarket, 'ds' for drink stores, 'as' for airports and stations, 'cl' for clubs/lounge, 'co' for convinience, 'dr' for drugstore, 'hc' for high culture, 'ce' for casual entertainment, 'hy' for hypermarket & 'ad' for adults at play:\n",
      "c\n",
      "114. Which segment does diners food diners nan belong to?\n",
      "Enter 'c' for Cafe, 's' for sports, 'b' for Beer Bars, 'l' for Lodging, 'su' for supermarket, 'ds' for drink stores, 'as' for airports and stations, 'cl' for clubs/lounge, 'co' for convinience, 'dr' for drugstore, 'hc' for high culture, 'ce' for casual entertainment, 'hy' for hypermarket & 'ad' for adults at play:\n",
      "c\n",
      "115. Which segment does brazilian restaurants food latin american restaurants south american restaurants belong to?\n",
      "Enter 'c' for Cafe, 's' for sports, 'b' for Beer Bars, 'l' for Lodging, 'su' for supermarket, 'ds' for drink stores, 'as' for airports and stations, 'cl' for clubs/lounge, 'co' for convinience, 'dr' for drugstore, 'hc' for high culture, 'ce' for casual entertainment, 'hy' for hypermarket & 'ad' for adults at play:\n",
      "c\n",
      "116. Which segment does gay bars nightlife spots bars gay bars belong to?\n",
      "Enter 'c' for Cafe, 's' for sports, 'b' for Beer Bars, 'l' for Lodging, 'su' for supermarket, 'ds' for drink stores, 'as' for airports and stations, 'cl' for clubs/lounge, 'co' for convinience, 'dr' for drugstore, 'hc' for high culture, 'ce' for casual entertainment, 'hy' for hypermarket & 'ad' for adults at play:\n",
      "b\n",
      "117. Which segment does taco places food mexican restaurants taco places belong to?\n",
      "Enter 'c' for Cafe, 's' for sports, 'b' for Beer Bars, 'l' for Lodging, 'su' for supermarket, 'ds' for drink stores, 'as' for airports and stations, 'cl' for clubs/lounge, 'co' for convinience, 'dr' for drugstore, 'hc' for high culture, 'ce' for casual entertainment, 'hy' for hypermarket & 'ad' for adults at play:\n",
      "c\n",
      "118. Which segment does bistros food bistros nan belong to?\n",
      "Enter 'c' for Cafe, 's' for sports, 'b' for Beer Bars, 'l' for Lodging, 'su' for supermarket, 'ds' for drink stores, 'as' for airports and stations, 'cl' for clubs/lounge, 'co' for convinience, 'dr' for drugstore, 'hc' for high culture, 'ce' for casual entertainment, 'hy' for hypermarket & 'ad' for adults at play:\n",
      "c\n",
      "119. Which segment does persian restaurants food middle eastern restaurants persian restaurants belong to?\n",
      "Enter 'c' for Cafe, 's' for sports, 'b' for Beer Bars, 'l' for Lodging, 'su' for supermarket, 'ds' for drink stores, 'as' for airports and stations, 'cl' for clubs/lounge, 'co' for convinience, 'dr' for drugstore, 'hc' for high culture, 'ce' for casual entertainment, 'hy' for hypermarket & 'ad' for adults at play:\n",
      "c\n",
      "120. Which segment does strip clubs nightlife spots strip clubs nan belong to?\n",
      "Enter 'c' for Cafe, 's' for sports, 'b' for Beer Bars, 'l' for Lodging, 'su' for supermarket, 'ds' for drink stores, 'as' for airports and stations, 'cl' for clubs/lounge, 'co' for convinience, 'dr' for drugstore, 'hc' for high culture, 'ce' for casual entertainment, 'hy' for hypermarket & 'ad' for adults at play:\n",
      "cl\n",
      "121. Which segment does dosa places food indian restaurants dosa places belong to?\n",
      "Enter 'c' for Cafe, 's' for sports, 'b' for Beer Bars, 'l' for Lodging, 'su' for supermarket, 'ds' for drink stores, 'as' for airports and stations, 'cl' for clubs/lounge, 'co' for convinience, 'dr' for drugstore, 'hc' for high culture, 'ce' for casual entertainment, 'hy' for hypermarket & 'ad' for adults at play:\n",
      "c\n",
      "122. Which segment does irish pubs food irish pubs nan belong to?\n",
      "Enter 'c' for Cafe, 's' for sports, 'b' for Beer Bars, 'l' for Lodging, 'su' for supermarket, 'ds' for drink stores, 'as' for airports and stations, 'cl' for clubs/lounge, 'co' for convinience, 'dr' for drugstore, 'hc' for high culture, 'ce' for casual entertainment, 'hy' for hypermarket & 'ad' for adults at play:\n",
      "b\n",
      "123. Which segment does turkish restaurants food turkish restaurants nan belong to?\n",
      "Enter 'c' for Cafe, 's' for sports, 'b' for Beer Bars, 'l' for Lodging, 'su' for supermarket, 'ds' for drink stores, 'as' for airports and stations, 'cl' for clubs/lounge, 'co' for convinience, 'dr' for drugstore, 'hc' for high culture, 'ce' for casual entertainment, 'hy' for hypermarket & 'ad' for adults at play:\n",
      "c\n",
      "124. Which segment does dim sum restaurants food asian restaurants chinese restaurants belong to?\n",
      "Enter 'c' for Cafe, 's' for sports, 'b' for Beer Bars, 'l' for Lodging, 'su' for supermarket, 'ds' for drink stores, 'as' for airports and stations, 'cl' for clubs/lounge, 'co' for convinience, 'dr' for drugstore, 'hc' for high culture, 'ce' for casual entertainment, 'hy' for hypermarket & 'ad' for adults at play:\n",
      "c\n",
      "125. Which segment does kebab restaurants food kebab restaurants nan belong to?\n",
      "Enter 'c' for Cafe, 's' for sports, 'b' for Beer Bars, 'l' for Lodging, 'su' for supermarket, 'ds' for drink stores, 'as' for airports and stations, 'cl' for clubs/lounge, 'co' for convinience, 'dr' for drugstore, 'hc' for high culture, 'ce' for casual entertainment, 'hy' for hypermarket & 'ad' for adults at play:\n",
      "c\n",
      "126. Which segment does chinese restaurants food asian restaurants chinese restaurants belong to?\n",
      "Enter 'c' for Cafe, 's' for sports, 'b' for Beer Bars, 'l' for Lodging, 'su' for supermarket, 'ds' for drink stores, 'as' for airports and stations, 'cl' for clubs/lounge, 'co' for convinience, 'dr' for drugstore, 'hc' for high culture, 'ce' for casual entertainment, 'hy' for hypermarket & 'ad' for adults at play:\n",
      "c\n",
      "127. Which segment does pizza places food pizza places nan belong to?\n",
      "Enter 'c' for Cafe, 's' for sports, 'b' for Beer Bars, 'l' for Lodging, 'su' for supermarket, 'ds' for drink stores, 'as' for airports and stations, 'cl' for clubs/lounge, 'co' for convinience, 'dr' for drugstore, 'hc' for high culture, 'ce' for casual entertainment, 'hy' for hypermarket & 'ad' for adults at play:\n",
      "c\n",
      "128. Which segment does tea rooms food tea rooms nan belong to?\n",
      "Enter 'c' for Cafe, 's' for sports, 'b' for Beer Bars, 'l' for Lodging, 'su' for supermarket, 'ds' for drink stores, 'as' for airports and stations, 'cl' for clubs/lounge, 'co' for convinience, 'dr' for drugstore, 'hc' for high culture, 'ce' for casual entertainment, 'hy' for hypermarket & 'ad' for adults at play:\n",
      "c\n",
      "129. Which segment does mac cheese joints food mac cheese joints nan belong to?\n",
      "Enter 'c' for Cafe, 's' for sports, 'b' for Beer Bars, 'l' for Lodging, 'su' for supermarket, 'ds' for drink stores, 'as' for airports and stations, 'cl' for clubs/lounge, 'co' for convinience, 'dr' for drugstore, 'hc' for high culture, 'ce' for casual entertainment, 'hy' for hypermarket & 'ad' for adults at play:\n",
      "c\n",
      "130. Which segment does sports bars nightlife spots bars sports bars belong to?\n",
      "Enter 'c' for Cafe, 's' for sports, 'b' for Beer Bars, 'l' for Lodging, 'su' for supermarket, 'ds' for drink stores, 'as' for airports and stations, 'cl' for clubs/lounge, 'co' for convinience, 'dr' for drugstore, 'hc' for high culture, 'ce' for casual entertainment, 'hy' for hypermarket & 'ad' for adults at play:\n",
      "b\n",
      "131. Which segment does arepa restaurants food latin american restaurants arepa restaurants belong to?\n",
      "Enter 'c' for Cafe, 's' for sports, 'b' for Beer Bars, 'l' for Lodging, 'su' for supermarket, 'ds' for drink stores, 'as' for airports and stations, 'cl' for clubs/lounge, 'co' for convinience, 'dr' for drugstore, 'hc' for high culture, 'ce' for casual entertainment, 'hy' for hypermarket & 'ad' for adults at play:\n",
      "c\n",
      "132. Which segment does molecular gastronomy restaurants food molecular gastronomy restaurants nan belong to?\n",
      "Enter 'c' for Cafe, 's' for sports, 'b' for Beer Bars, 'l' for Lodging, 'su' for supermarket, 'ds' for drink stores, 'as' for airports and stations, 'cl' for clubs/lounge, 'co' for convinience, 'dr' for drugstore, 'hc' for high culture, 'ce' for casual entertainment, 'hy' for hypermarket & 'ad' for adults at play:\n",
      "c\n",
      "133. Which segment does sri lankan restaurants food sri lankan restaurants nan belong to?\n",
      "Enter 'c' for Cafe, 's' for sports, 'b' for Beer Bars, 'l' for Lodging, 'su' for supermarket, 'ds' for drink stores, 'as' for airports and stations, 'cl' for clubs/lounge, 'co' for convinience, 'dr' for drugstore, 'hc' for high culture, 'ce' for casual entertainment, 'hy' for hypermarket & 'ad' for adults at play:\n",
      "c\n",
      "134. Which segment does swiss restaurants food swiss restaurants nan belong to?\n",
      "Enter 'c' for Cafe, 's' for sports, 'b' for Beer Bars, 'l' for Lodging, 'su' for supermarket, 'ds' for drink stores, 'as' for airports and stations, 'cl' for clubs/lounge, 'co' for convinience, 'dr' for drugstore, 'hc' for high culture, 'ce' for casual entertainment, 'hy' for hypermarket & 'ad' for adults at play:\n",
      "c\n",
      "135. Which segment does greek restaurants food greek restaurants nan belong to?\n",
      "Enter 'c' for Cafe, 's' for sports, 'b' for Beer Bars, 'l' for Lodging, 'su' for supermarket, 'ds' for drink stores, 'as' for airports and stations, 'cl' for clubs/lounge, 'co' for convinience, 'dr' for drugstore, 'hc' for high culture, 'ce' for casual entertainment, 'hy' for hypermarket & 'ad' for adults at play:\n",
      "c\n",
      "136. Which segment does cupcake shops food dessert shops cupcake shops belong to?\n",
      "Enter 'c' for Cafe, 's' for sports, 'b' for Beer Bars, 'l' for Lodging, 'su' for supermarket, 'ds' for drink stores, 'as' for airports and stations, 'cl' for clubs/lounge, 'co' for convinience, 'dr' for drugstore, 'hc' for high culture, 'ce' for casual entertainment, 'hy' for hypermarket & 'ad' for adults at play:\n",
      "c\n",
      "137. Which segment does night markets nightlife spots night markets nan belong to?\n",
      "Enter 'c' for Cafe, 's' for sports, 'b' for Beer Bars, 'l' for Lodging, 'su' for supermarket, 'ds' for drink stores, 'as' for airports and stations, 'cl' for clubs/lounge, 'co' for convinience, 'dr' for drugstore, 'hc' for high culture, 'ce' for casual entertainment, 'hy' for hypermarket & 'ad' for adults at play:\n",
      "b\n",
      "138. Which segment does fast food restaurants food fast food restaurants nan belong to?\n",
      "Enter 'c' for Cafe, 's' for sports, 'b' for Beer Bars, 'l' for Lodging, 'su' for supermarket, 'ds' for drink stores, 'as' for airports and stations, 'cl' for clubs/lounge, 'co' for convinience, 'dr' for drugstore, 'hc' for high culture, 'ce' for casual entertainment, 'hy' for hypermarket & 'ad' for adults at play:\n",
      "c\n",
      "139. Which segment does food trucks food food trucks nan belong to?\n",
      "Enter 'c' for Cafe, 's' for sports, 'b' for Beer Bars, 'l' for Lodging, 'su' for supermarket, 'ds' for drink stores, 'as' for airports and stations, 'cl' for clubs/lounge, 'co' for convinience, 'dr' for drugstore, 'hc' for high culture, 'ce' for casual entertainment, 'hy' for hypermarket & 'ad' for adults at play:\n",
      "c\n",
      "140. Which segment does sandwich places food sandwich places nan belong to?\n",
      "Enter 'c' for Cafe, 's' for sports, 'b' for Beer Bars, 'l' for Lodging, 'su' for supermarket, 'ds' for drink stores, 'as' for airports and stations, 'cl' for clubs/lounge, 'co' for convinience, 'dr' for drugstore, 'hc' for high culture, 'ce' for casual entertainment, 'hy' for hypermarket & 'ad' for adults at play:\n",
      "c\n",
      "141. Which segment does beer bars nightlife spots bars beer bars belong to?\n",
      "Enter 'c' for Cafe, 's' for sports, 'b' for Beer Bars, 'l' for Lodging, 'su' for supermarket, 'ds' for drink stores, 'as' for airports and stations, 'cl' for clubs/lounge, 'co' for convinience, 'dr' for drugstore, 'hc' for high culture, 'ce' for casual entertainment, 'hy' for hypermarket & 'ad' for adults at play:\n",
      "b\n",
      "142. Which segment does pakistani restaurants food pakistani restaurants nan belong to?\n",
      "Enter 'c' for Cafe, 's' for sports, 'b' for Beer Bars, 'l' for Lodging, 'su' for supermarket, 'ds' for drink stores, 'as' for airports and stations, 'cl' for clubs/lounge, 'co' for convinience, 'dr' for drugstore, 'hc' for high culture, 'ce' for casual entertainment, 'hy' for hypermarket & 'ad' for adults at play:\n",
      "c\n",
      "143. Which segment does coffee shops food coffee shops nan belong to?\n",
      "Enter 'c' for Cafe, 's' for sports, 'b' for Beer Bars, 'l' for Lodging, 'su' for supermarket, 'ds' for drink stores, 'as' for airports and stations, 'cl' for clubs/lounge, 'co' for convinience, 'dr' for drugstore, 'hc' for high culture, 'ce' for casual entertainment, 'hy' for hypermarket & 'ad' for adults at play:\n",
      "c\n",
      "144. Which segment does whisky bars nightlife spots bars whisky bars belong to?\n",
      "Enter 'c' for Cafe, 's' for sports, 'b' for Beer Bars, 'l' for Lodging, 'su' for supermarket, 'ds' for drink stores, 'as' for airports and stations, 'cl' for clubs/lounge, 'co' for convinience, 'dr' for drugstore, 'hc' for high culture, 'ce' for casual entertainment, 'hy' for hypermarket & 'ad' for adults at play:\n",
      "b\n",
      "145. Which segment does empanada restaurants food latin american restaurants empanada restaurants belong to?\n",
      "Enter 'c' for Cafe, 's' for sports, 'b' for Beer Bars, 'l' for Lodging, 'su' for supermarket, 'ds' for drink stores, 'as' for airports and stations, 'cl' for clubs/lounge, 'co' for convinience, 'dr' for drugstore, 'hc' for high culture, 'ce' for casual entertainment, 'hy' for hypermarket & 'ad' for adults at play:\n",
      "c\n",
      "146. Which segment does hunan restaurants food asian restaurants chinese restaurants belong to?\n",
      "Enter 'c' for Cafe, 's' for sports, 'b' for Beer Bars, 'l' for Lodging, 'su' for supermarket, 'ds' for drink stores, 'as' for airports and stations, 'cl' for clubs/lounge, 'co' for convinience, 'dr' for drugstore, 'hc' for high culture, 'ce' for casual entertainment, 'hy' for hypermarket & 'ad' for adults at play:\n",
      "c\n",
      "147. Which segment does pie shops food dessert shops pie shops belong to?\n",
      "Enter 'c' for Cafe, 's' for sports, 'b' for Beer Bars, 'l' for Lodging, 'su' for supermarket, 'ds' for drink stores, 'as' for airports and stations, 'cl' for clubs/lounge, 'co' for convinience, 'dr' for drugstore, 'hc' for high culture, 'ce' for casual entertainment, 'hy' for hypermarket & 'ad' for adults at play:\n",
      "c\n",
      "148. Which segment does breweries nightlife spots breweries nan belong to?\n",
      "Enter 'c' for Cafe, 's' for sports, 'b' for Beer Bars, 'l' for Lodging, 'su' for supermarket, 'ds' for drink stores, 'as' for airports and stations, 'cl' for clubs/lounge, 'co' for convinience, 'dr' for drugstore, 'hc' for high culture, 'ce' for casual entertainment, 'hy' for hypermarket & 'ad' for adults at play:\n",
      "b\n",
      "149. Which segment does restaurants food restaurants nan belong to?\n",
      "Enter 'c' for Cafe, 's' for sports, 'b' for Beer Bars, 'l' for Lodging, 'su' for supermarket, 'ds' for drink stores, 'as' for airports and stations, 'cl' for clubs/lounge, 'co' for convinience, 'dr' for drugstore, 'hc' for high culture, 'ce' for casual entertainment, 'hy' for hypermarket & 'ad' for adults at play:\n",
      "c\n",
      "150. Which segment does australian restaurants food australian restaurants nan belong to?\n",
      "Enter 'c' for Cafe, 's' for sports, 'b' for Beer Bars, 'l' for Lodging, 'su' for supermarket, 'ds' for drink stores, 'as' for airports and stations, 'cl' for clubs/lounge, 'co' for convinience, 'dr' for drugstore, 'hc' for high culture, 'ce' for casual entertainment, 'hy' for hypermarket & 'ad' for adults at play:\n",
      "c\n",
      "151. Which segment does pastry shops food dessert shops pastry shops belong to?\n",
      "Enter 'c' for Cafe, 's' for sports, 'b' for Beer Bars, 'l' for Lodging, 'su' for supermarket, 'ds' for drink stores, 'as' for airports and stations, 'cl' for clubs/lounge, 'co' for convinience, 'dr' for drugstore, 'hc' for high culture, 'ce' for casual entertainment, 'hy' for hypermarket & 'ad' for adults at play:\n",
      "c\n",
      "152. Which segment does peruvian restaurants food latin american restaurants south american restaurants belong to?\n",
      "Enter 'c' for Cafe, 's' for sports, 'b' for Beer Bars, 'l' for Lodging, 'su' for supermarket, 'ds' for drink stores, 'as' for airports and stations, 'cl' for clubs/lounge, 'co' for convinience, 'dr' for drugstore, 'hc' for high culture, 'ce' for casual entertainment, 'hy' for hypermarket & 'ad' for adults at play:\n",
      "c\n",
      "153. Which segment does vietnamese restaurants food asian restaurants vietnamese restaurants belong to?\n",
      "Enter 'c' for Cafe, 's' for sports, 'b' for Beer Bars, 'l' for Lodging, 'su' for supermarket, 'ds' for drink stores, 'as' for airports and stations, 'cl' for clubs/lounge, 'co' for convinience, 'dr' for drugstore, 'hc' for high culture, 'ce' for casual entertainment, 'hy' for hypermarket & 'ad' for adults at play:\n",
      "c\n",
      "154. Which segment does buffets food buffets nan belong to?\n",
      "Enter 'c' for Cafe, 's' for sports, 'b' for Beer Bars, 'l' for Lodging, 'su' for supermarket, 'ds' for drink stores, 'as' for airports and stations, 'cl' for clubs/lounge, 'co' for convinience, 'dr' for drugstore, 'hc' for high culture, 'ce' for casual entertainment, 'hy' for hypermarket & 'ad' for adults at play:\n",
      "c\n",
      "155. Which segment does argentinian restaurants food latin american restaurants south american restaurants belong to?\n",
      "Enter 'c' for Cafe, 's' for sports, 'b' for Beer Bars, 'l' for Lodging, 'su' for supermarket, 'ds' for drink stores, 'as' for airports and stations, 'cl' for clubs/lounge, 'co' for convinience, 'dr' for drugstore, 'hc' for high culture, 'ce' for casual entertainment, 'hy' for hypermarket & 'ad' for adults at play:\n",
      "c\n",
      "156. Which segment does portuguese restaurants food portuguese restaurants nan belong to?\n",
      "Enter 'c' for Cafe, 's' for sports, 'b' for Beer Bars, 'l' for Lodging, 'su' for supermarket, 'ds' for drink stores, 'as' for airports and stations, 'cl' for clubs/lounge, 'co' for convinience, 'dr' for drugstore, 'hc' for high culture, 'ce' for casual entertainment, 'hy' for hypermarket & 'ad' for adults at play:\n",
      "c\n",
      "157. Which segment does french restaurants food french restaurants nan belong to?\n",
      "Enter 'c' for Cafe, 's' for sports, 'b' for Beer Bars, 'l' for Lodging, 'su' for supermarket, 'ds' for drink stores, 'as' for airports and stations, 'cl' for clubs/lounge, 'co' for convinience, 'dr' for drugstore, 'hc' for high culture, 'ce' for casual entertainment, 'hy' for hypermarket & 'ad' for adults at play:\n",
      "c\n",
      "158. Which segment does pubs nightlife spots bars pubs belong to?\n",
      "Enter 'c' for Cafe, 's' for sports, 'b' for Beer Bars, 'l' for Lodging, 'su' for supermarket, 'ds' for drink stores, 'as' for airports and stations, 'cl' for clubs/lounge, 'co' for convinience, 'dr' for drugstore, 'hc' for high culture, 'ce' for casual entertainment, 'hy' for hypermarket & 'ad' for adults at play:\n",
      "b\n",
      "159. Which segment does food food nan nan belong to?\n",
      "Enter 'c' for Cafe, 's' for sports, 'b' for Beer Bars, 'l' for Lodging, 'su' for supermarket, 'ds' for drink stores, 'as' for airports and stations, 'cl' for clubs/lounge, 'co' for convinience, 'dr' for drugstore, 'hc' for high culture, 'ce' for casual entertainment, 'hy' for hypermarket & 'ad' for adults at play:\n",
      "c\n"
     ]
    }
   ],
   "source": [
    "total_target = []\n",
    "for val in total_sample.tolist():\n",
    "    print(str(total_sample.tolist().index(val) + 1) + \". Which segment does \" + str(val) + \" belong to?\")\n",
    "    display_string = \"Enter 'c' for Cafe, 's' for sports, 'b' for Beer Bars, 'l' for Lodging, 'su' for supermarket, 'ds' for drink stores, 'as' for airports and stations, 'cl' for clubs/lounge, 'co' for convinience, 'dr' for drugstore, 'hc' for high culture, 'ce' for casual entertainment, 'hy' for hypermarket & 'ad' for adults at play:\"\n",
    "    print(display_string)\n",
    "    while True:\n",
    "        response=input()\n",
    "        if response in ['c', 's', 'b', 'l', 'su', 'ds', 'fo', 'as', 'cl', 'co', 'dr', 'hc', 'ce', 'hy', 'ad']:\n",
    "            break\n",
    "        else:\n",
    "            print(display_string)\n",
    "            continue\n",
    "    total_target.append(response)"
   ]
  },
  {
   "cell_type": "code",
   "execution_count": 20,
   "metadata": {},
   "outputs": [],
   "source": [
    "target_numeric = total_target\n",
    "for index, value in enumerate(total_target):\n",
    "    if value=='c':\n",
    "        target_numeric[index]=1\n",
    "    elif value=='s':\n",
    "        target_numeric[index]=2\n",
    "    elif value=='b':\n",
    "        target_numeric[index]=3\n",
    "    elif value=='l':\n",
    "        target_numeric[index]=4\n",
    "    elif value=='su':\n",
    "        target_numeric[index]=5                      \n",
    "    elif value=='ds':\n",
    "        target_numeric[index]=6\n",
    "    elif value=='as':\n",
    "        target_numeric[index]=7\n",
    "    elif value=='cl':\n",
    "        target_numeric[index]=8\n",
    "    elif value=='co':\n",
    "        target_numeric[index]=9\n",
    "    elif value=='dr':\n",
    "        target_numeric[index]=10\n",
    "    elif value=='hc':\n",
    "        target_numeric[index]=11\n",
    "    elif value=='ce':\n",
    "        target_numeric[index]=12    \n",
    "    elif value=='hy':\n",
    "        target_numeric[index]=13\n",
    "    else:\n",
    "        target_numeric[index]=14\n",
    "    "
   ]
  },
  {
   "cell_type": "code",
   "execution_count": 22,
   "metadata": {},
   "outputs": [
    {
     "name": "stdout",
     "output_type": "stream",
     "text": [
      "Total 'Cafe' samples: 133\n",
      "Total 'Sports' samples: 0\n",
      "Total 'Beer Bars' samples: 23\n",
      "Total 'Lodging' samples: 0\n",
      "Total 'Supermarket' samples: 0\n",
      "Total 'Drink stores' samples: 0\n",
      "Total 'Airports and Stations' samples: 0\n",
      "Total 'Clubs/lounge' samples: 3\n",
      "Total 'Convenience' samples: 0\n",
      "Total 'Drugstore' samples: 0\n",
      "Total 'High culture' samples: 0\n",
      "Total 'Casual entertainment' samples: 0\n",
      "Total 'Hypermarket' samples: 0\n",
      "Total 'Adults at play' samples: 0\n"
     ]
    }
   ],
   "source": [
    "print(\"Total 'Cafe' samples: \" + str(target_numeric.count(1)))\n",
    "print(\"Total 'Sports' samples: \" + str(target_numeric.count(2)))\n",
    "print(\"Total 'Beer Bars' samples: \" + str(target_numeric.count(3)))\n",
    "print(\"Total 'Lodging' samples: \" + str(target_numeric.count(4)))\n",
    "print(\"Total 'Supermarket' samples: \" + str(target_numeric.count(5)))\n",
    "print(\"Total 'Drink stores' samples: \" + str(target_numeric.count(6)))\n",
    "print(\"Total 'Airports and Stations' samples: \" + str(target_numeric.count(7)))\n",
    "print(\"Total 'Clubs/lounge' samples: \" + str(target_numeric.count(8)))\n",
    "print(\"Total 'Convenience' samples: \" + str(target_numeric.count(9)))\n",
    "print(\"Total 'Drugstore' samples: \" + str(target_numeric.count(10)))\n",
    "print(\"Total 'High culture' samples: \" + str(target_numeric.count(11)))\n",
    "print(\"Total 'Casual entertainment' samples: \" + str(target_numeric.count(12)))\n",
    "print(\"Total 'Hypermarket' samples: \" + str(target_numeric.count(13)))\n",
    "print(\"Total 'Adults at play' samples: \" + str(target_numeric.count(14)))"
   ]
  },
  {
   "cell_type": "code",
   "execution_count": 23,
   "metadata": {
    "collapsed": true
   },
   "outputs": [],
   "source": [
    "all_data = pd.DataFrame(columns=['Type', 'Segment'])"
   ]
  },
  {
   "cell_type": "code",
   "execution_count": 24,
   "metadata": {
    "collapsed": true
   },
   "outputs": [],
   "source": [
    "all_data['Type'] = total_sample"
   ]
  },
  {
   "cell_type": "code",
   "execution_count": 25,
   "metadata": {
    "collapsed": true
   },
   "outputs": [],
   "source": [
    "all_data['Segment'] = target_numeric"
   ]
  },
  {
   "cell_type": "code",
   "execution_count": 27,
   "metadata": {
    "collapsed": true
   },
   "outputs": [],
   "source": [
    "train, test = train_test_split(all_data, train_size=0.8)"
   ]
  },
  {
   "cell_type": "code",
   "execution_count": 28,
   "metadata": {},
   "outputs": [
    {
     "data": {
      "text/html": [
       "<div>\n",
       "<table border=\"1\" class=\"dataframe\">\n",
       "  <thead>\n",
       "    <tr style=\"text-align: right;\">\n",
       "      <th></th>\n",
       "      <th>Type</th>\n",
       "      <th>Segment</th>\n",
       "    </tr>\n",
       "  </thead>\n",
       "  <tbody>\n",
       "    <tr>\n",
       "      <th>132</th>\n",
       "      <td>himalayan restaurants food asian restaurants h...</td>\n",
       "      <td>1</td>\n",
       "    </tr>\n",
       "    <tr>\n",
       "      <th>141</th>\n",
       "      <td>arepa restaurants food latin american restaura...</td>\n",
       "      <td>1</td>\n",
       "    </tr>\n",
       "    <tr>\n",
       "      <th>65</th>\n",
       "      <td>latin american restaurants food latin american...</td>\n",
       "      <td>1</td>\n",
       "    </tr>\n",
       "    <tr>\n",
       "      <th>72</th>\n",
       "      <td>greek restaurants food greek restaurants nan</td>\n",
       "      <td>1</td>\n",
       "    </tr>\n",
       "    <tr>\n",
       "      <th>105</th>\n",
       "      <td>malay restaurants food asian restaurants malay...</td>\n",
       "      <td>1</td>\n",
       "    </tr>\n",
       "    <tr>\n",
       "      <th>144</th>\n",
       "      <td>south indian restaurants food indian restauran...</td>\n",
       "      <td>1</td>\n",
       "    </tr>\n",
       "    <tr>\n",
       "      <th>137</th>\n",
       "      <td>austrian restaurants food austrian restaurants...</td>\n",
       "      <td>1</td>\n",
       "    </tr>\n",
       "    <tr>\n",
       "      <th>125</th>\n",
       "      <td>eastern european restaurants food eastern euro...</td>\n",
       "      <td>1</td>\n",
       "    </tr>\n",
       "    <tr>\n",
       "      <th>45</th>\n",
       "      <td>snack places food snack places nan</td>\n",
       "      <td>1</td>\n",
       "    </tr>\n",
       "    <tr>\n",
       "      <th>4</th>\n",
       "      <td>american restaurants food american restaurants...</td>\n",
       "      <td>1</td>\n",
       "    </tr>\n",
       "    <tr>\n",
       "      <th>11</th>\n",
       "      <td>fast food restaurants food fast food restauran...</td>\n",
       "      <td>1</td>\n",
       "    </tr>\n",
       "    <tr>\n",
       "      <th>71</th>\n",
       "      <td>hotel bars nightlife spots bars hotel bars</td>\n",
       "      <td>3</td>\n",
       "    </tr>\n",
       "    <tr>\n",
       "      <th>122</th>\n",
       "      <td>african restaurants food african restaurants nan</td>\n",
       "      <td>1</td>\n",
       "    </tr>\n",
       "    <tr>\n",
       "      <th>75</th>\n",
       "      <td>food courts food food courts nan</td>\n",
       "      <td>1</td>\n",
       "    </tr>\n",
       "    <tr>\n",
       "      <th>123</th>\n",
       "      <td>nightlife spots nightlife spots nan nan</td>\n",
       "      <td>3</td>\n",
       "    </tr>\n",
       "    <tr>\n",
       "      <th>147</th>\n",
       "      <td>ethiopian restaurants food african restaurants...</td>\n",
       "      <td>1</td>\n",
       "    </tr>\n",
       "    <tr>\n",
       "      <th>39</th>\n",
       "      <td>diners food diners nan</td>\n",
       "      <td>1</td>\n",
       "    </tr>\n",
       "    <tr>\n",
       "      <th>67</th>\n",
       "      <td>tapas restaurants food spanish restaurants tap...</td>\n",
       "      <td>1</td>\n",
       "    </tr>\n",
       "    <tr>\n",
       "      <th>97</th>\n",
       "      <td>food food nan nan</td>\n",
       "      <td>1</td>\n",
       "    </tr>\n",
       "    <tr>\n",
       "      <th>53</th>\n",
       "      <td>taco places food mexican restaurants taco places</td>\n",
       "      <td>1</td>\n",
       "    </tr>\n",
       "    <tr>\n",
       "      <th>7</th>\n",
       "      <td>burger joints food burger joints nan</td>\n",
       "      <td>1</td>\n",
       "    </tr>\n",
       "    <tr>\n",
       "      <th>29</th>\n",
       "      <td>sushi restaurants food asian restaurants japan...</td>\n",
       "      <td>1</td>\n",
       "    </tr>\n",
       "    <tr>\n",
       "      <th>20</th>\n",
       "      <td>bagel shops food bagel shops nan</td>\n",
       "      <td>1</td>\n",
       "    </tr>\n",
       "    <tr>\n",
       "      <th>138</th>\n",
       "      <td>portuguese restaurants food portuguese restaur...</td>\n",
       "      <td>1</td>\n",
       "    </tr>\n",
       "    <tr>\n",
       "      <th>58</th>\n",
       "      <td>juice bars food juice bars nan</td>\n",
       "      <td>1</td>\n",
       "    </tr>\n",
       "    <tr>\n",
       "      <th>81</th>\n",
       "      <td>burrito places food mexican restaurants burrit...</td>\n",
       "      <td>1</td>\n",
       "    </tr>\n",
       "    <tr>\n",
       "      <th>128</th>\n",
       "      <td>gluten free restaurants food gluten free resta...</td>\n",
       "      <td>1</td>\n",
       "    </tr>\n",
       "    <tr>\n",
       "      <th>103</th>\n",
       "      <td>sake bars nightlife spots bars sake bars</td>\n",
       "      <td>3</td>\n",
       "    </tr>\n",
       "    <tr>\n",
       "      <th>104</th>\n",
       "      <td>pie shops food dessert shops pie shops</td>\n",
       "      <td>1</td>\n",
       "    </tr>\n",
       "    <tr>\n",
       "      <th>102</th>\n",
       "      <td>donburi restaurants food asian restaurants jap...</td>\n",
       "      <td>1</td>\n",
       "    </tr>\n",
       "    <tr>\n",
       "      <th>32</th>\n",
       "      <td>caf food caf nan</td>\n",
       "      <td>1</td>\n",
       "    </tr>\n",
       "    <tr>\n",
       "      <th>64</th>\n",
       "      <td>creperies food creperies nan</td>\n",
       "      <td>1</td>\n",
       "    </tr>\n",
       "  </tbody>\n",
       "</table>\n",
       "</div>"
      ],
      "text/plain": [
       "                                                  Type  Segment\n",
       "132  himalayan restaurants food asian restaurants h...        1\n",
       "141  arepa restaurants food latin american restaura...        1\n",
       "65   latin american restaurants food latin american...        1\n",
       "72        greek restaurants food greek restaurants nan        1\n",
       "105  malay restaurants food asian restaurants malay...        1\n",
       "144  south indian restaurants food indian restauran...        1\n",
       "137  austrian restaurants food austrian restaurants...        1\n",
       "125  eastern european restaurants food eastern euro...        1\n",
       "45                  snack places food snack places nan        1\n",
       "4    american restaurants food american restaurants...        1\n",
       "11   fast food restaurants food fast food restauran...        1\n",
       "71          hotel bars nightlife spots bars hotel bars        3\n",
       "122   african restaurants food african restaurants nan        1\n",
       "75                    food courts food food courts nan        1\n",
       "123            nightlife spots nightlife spots nan nan        3\n",
       "147  ethiopian restaurants food african restaurants...        1\n",
       "39                              diners food diners nan        1\n",
       "67   tapas restaurants food spanish restaurants tap...        1\n",
       "97                                   food food nan nan        1\n",
       "53    taco places food mexican restaurants taco places        1\n",
       "7                 burger joints food burger joints nan        1\n",
       "29   sushi restaurants food asian restaurants japan...        1\n",
       "20                    bagel shops food bagel shops nan        1\n",
       "138  portuguese restaurants food portuguese restaur...        1\n",
       "58                      juice bars food juice bars nan        1\n",
       "81   burrito places food mexican restaurants burrit...        1\n",
       "128  gluten free restaurants food gluten free resta...        1\n",
       "103           sake bars nightlife spots bars sake bars        3\n",
       "104             pie shops food dessert shops pie shops        1\n",
       "102  donburi restaurants food asian restaurants jap...        1\n",
       "32                                    caf food caf nan        1\n",
       "64                        creperies food creperies nan        1"
      ]
     },
     "execution_count": 28,
     "metadata": {},
     "output_type": "execute_result"
    }
   ],
   "source": [
    "test"
   ]
  },
  {
   "cell_type": "code",
   "execution_count": 29,
   "metadata": {},
   "outputs": [
    {
     "data": {
      "text/plain": [
       "TfidfVectorizer(analyzer='word', binary=False, decode_error='strict',\n",
       "        dtype=<class 'numpy.int64'>, encoding='utf-8', input='content',\n",
       "        lowercase=True, max_df=1.0, max_features=400, min_df=1,\n",
       "        ngram_range=(1, 1), norm='l2', preprocessor=None, smooth_idf=True,\n",
       "        stop_words='english', strip_accents=None, sublinear_tf=True,\n",
       "        token_pattern='(?u)\\\\b\\\\w\\\\w+\\\\b', tokenizer=None, use_idf=False,\n",
       "        vocabulary=None)"
      ]
     },
     "execution_count": 29,
     "metadata": {},
     "output_type": "execute_result"
    }
   ],
   "source": [
    "vectorizer.fit(total_unique)"
   ]
  },
  {
   "cell_type": "code",
   "execution_count": 30,
   "metadata": {
    "collapsed": true
   },
   "outputs": [],
   "source": [
    "X_Train = vectorizer.transform(train['Type'])"
   ]
  },
  {
   "cell_type": "code",
   "execution_count": 31,
   "metadata": {
    "collapsed": true
   },
   "outputs": [],
   "source": [
    "X_Test = vectorizer.transform(test['Type'])"
   ]
  },
  {
   "cell_type": "code",
   "execution_count": 32,
   "metadata": {},
   "outputs": [
    {
     "name": "stdout",
     "output_type": "stream",
     "text": [
      "(127, 185)\n",
      "(32, 185)\n"
     ]
    }
   ],
   "source": [
    "print(X_Train.shape)\n",
    "print(X_Test.shape)"
   ]
  },
  {
   "cell_type": "code",
   "execution_count": 33,
   "metadata": {},
   "outputs": [],
   "source": [
    "#clf = MultinomialNB()\n",
    "#clf=DecisionTreeClassifier(min_samples_split=10)\n",
    "clf=SVC(kernel='rbf', C=2000)\n",
    "clf.fit(X_Train, train['Segment'])\n",
    "pred = clf.predict(X_Test)\n",
    "acc = accuracy_score(pred, test['Segment'])"
   ]
  },
  {
   "cell_type": "code",
   "execution_count": 34,
   "metadata": {},
   "outputs": [
    {
     "name": "stdout",
     "output_type": "stream",
     "text": [
      "1.0\n"
     ]
    }
   ],
   "source": [
    "print(acc)"
   ]
  },
  {
   "cell_type": "code",
   "execution_count": 35,
   "metadata": {},
   "outputs": [],
   "source": [
    "pred = list(pred)\n",
    "actual = list(test['Segment'])\n",
    "error_actual = []\n",
    "error_pred = []\n",
    "count_correct = 0\n",
    "for i in range(len(pred)):\n",
    "    if actual[i]==pred[i]:\n",
    "        count_correct=count_correct+1\n",
    "    else:\n",
    "        error_actual.append(actual[i])\n",
    "        error_pred.append(pred[i])"
   ]
  },
  {
   "cell_type": "code",
   "execution_count": 36,
   "metadata": {},
   "outputs": [
    {
     "name": "stdout",
     "output_type": "stream",
     "text": [
      "Total Accuracy: 100.0%\n"
     ]
    }
   ],
   "source": [
    "print(\"Total Accuracy: \" + str((count_correct/len(pred))*100) + \"%\")"
   ]
  },
  {
   "cell_type": "code",
   "execution_count": 37,
   "metadata": {},
   "outputs": [
    {
     "name": "stderr",
     "output_type": "stream",
     "text": [
      "C:\\Users\\Madhur\\Anaconda3\\lib\\site-packages\\ipykernel\\__main__.py:1: SettingWithCopyWarning: \n",
      "A value is trying to be set on a copy of a slice from a DataFrame.\n",
      "Try using .loc[row_indexer,col_indexer] = value instead\n",
      "\n",
      "See the caveats in the documentation: http://pandas.pydata.org/pandas-docs/stable/indexing.html#indexing-view-versus-copy\n",
      "  if __name__ == '__main__':\n"
     ]
    }
   ],
   "source": [
    "test['pred'] = clf.predict(X_Test)"
   ]
  },
  {
   "cell_type": "code",
   "execution_count": 38,
   "metadata": {
    "scrolled": true
   },
   "outputs": [
    {
     "data": {
      "text/html": [
       "<div>\n",
       "<table border=\"1\" class=\"dataframe\">\n",
       "  <thead>\n",
       "    <tr style=\"text-align: right;\">\n",
       "      <th></th>\n",
       "      <th>Type</th>\n",
       "      <th>Segment</th>\n",
       "      <th>pred</th>\n",
       "    </tr>\n",
       "  </thead>\n",
       "  <tbody>\n",
       "  </tbody>\n",
       "</table>\n",
       "</div>"
      ],
      "text/plain": [
       "Empty DataFrame\n",
       "Columns: [Type, Segment, pred]\n",
       "Index: []"
      ]
     },
     "execution_count": 38,
     "metadata": {},
     "output_type": "execute_result"
    }
   ],
   "source": [
    "test.loc[(test['pred']!=test['Segment']), ]"
   ]
  },
  {
   "cell_type": "code",
   "execution_count": 39,
   "metadata": {
    "collapsed": true
   },
   "outputs": [],
   "source": [
    "X_Total = vectorizer.transform(data['Consolidated Type'])"
   ]
  },
  {
   "cell_type": "code",
   "execution_count": 40,
   "metadata": {},
   "outputs": [
    {
     "data": {
      "text/plain": [
       "(24727, 185)"
      ]
     },
     "execution_count": 40,
     "metadata": {},
     "output_type": "execute_result"
    }
   ],
   "source": [
    "X_Total.shape"
   ]
  },
  {
   "cell_type": "code",
   "execution_count": 41,
   "metadata": {
    "collapsed": true
   },
   "outputs": [],
   "source": [
    "data['Segment Prediction'] = clf.predict(X_Total) "
   ]
  },
  {
   "cell_type": "code",
   "execution_count": 42,
   "metadata": {
    "collapsed": true
   },
   "outputs": [],
   "source": [
    "def segmentcategorize(val):\n",
    "    if val==1:\n",
    "        return('Cafe')\n",
    "    elif val==2:\n",
    "        return('Sports')\n",
    "    elif val==3:\n",
    "        return('Beer Bars')\n",
    "    elif val==4:\n",
    "        return('Lodging')\n",
    "    elif val==5:\n",
    "        return('Supermarket')\n",
    "    elif val==6:\n",
    "        return('Drink Store')\n",
    "    elif val==7:\n",
    "        return('Airport or Station')\n",
    "    elif val==8:\n",
    "        return('Club/Lounge')\n",
    "    elif val==9:\n",
    "        return('Convenience Store')\n",
    "    elif val==10:\n",
    "        return('Drug Store')\n",
    "    elif val==11:\n",
    "        return('High Culture')\n",
    "    elif val==12:\n",
    "        return('Casual Entertainment')\n",
    "    elif val==13:\n",
    "        return('Hypermarket')\n",
    "    elif val==14:\n",
    "        return('Adults at Play')"
   ]
  },
  {
   "cell_type": "code",
   "execution_count": 43,
   "metadata": {},
   "outputs": [],
   "source": [
    "data['Segment'] = data['Segment Prediction'].map(lambda x: segmentcategorize(x))"
   ]
  },
  {
   "cell_type": "code",
   "execution_count": 56,
   "metadata": {
    "collapsed": true
   },
   "outputs": [],
   "source": [
    "def channelpred(segment):\n",
    "    if segment=='Adults at Play':\n",
    "        channel=\"On Premise\"\n",
    "        \n",
    "    elif segment=='Convenience Store':\n",
    "        channel=\"Off Premise\"\n",
    "    \n",
    "    elif segment==\"Lodging\":\n",
    "        channel=\"On Premise\"\n",
    "    \n",
    "    elif segment==\"Cafe\":\n",
    "        channel=\"On Premise\"\n",
    "    \n",
    "    elif segment==\"Hypermarket\":\n",
    "        channel=\"Off Premise\"\n",
    "    \n",
    "    elif segment==\"Beer Bars\":\n",
    "        channel=\"On Premise\"\n",
    "    \n",
    "    elif segment==\"Pickup\":\n",
    "        channel=\"Off Premise\"\n",
    "    \n",
    "    elif segment==\"Club/Lounge\":\n",
    "        channel=\"On Premise\"\n",
    "    \n",
    "    elif segment==\"Drink Store\":\n",
    "        channel=\"Off Premise\"\n",
    "    \n",
    "    elif segment==\"Supermarket\":\n",
    "        channel=\"Off Premise\"\n",
    "    \n",
    "    elif segment==\"Casual Entertainment\":\n",
    "        channel=\"On Premise\"\n",
    "    \n",
    "    elif segment==\"Drug Store\":\n",
    "        channel=\"Off Premise\"\n",
    "    \n",
    "    elif segment==\"Sports\":\n",
    "        channel=\"On Premise\"\n",
    "    \n",
    "    elif segment==\"High Culture\":\n",
    "        channel=\"On Premise\"\n",
    "    \n",
    "    return channel"
   ]
  },
  {
   "cell_type": "code",
   "execution_count": 66,
   "metadata": {
    "collapsed": true
   },
   "outputs": [],
   "source": [
    "def subchannelpred(segment):\n",
    "    if segment=='Adults at Play':\n",
    "        subchannel=\"Entertainment-Led\"\n",
    "    \n",
    "    elif segment=='Convenience Store':\n",
    "        subchannel=\"Transit-Led\"\n",
    "    \n",
    "    elif segment==\"Cafe\":\n",
    "        subchannel=\"Food-Led\"\n",
    "        \n",
    "    elif segment==\"Lodging\":\n",
    "        subchannel=\"Transit-Led\"\n",
    "    \n",
    "    elif segment==\"Hypermarket\":\n",
    "        subchannel=\"Transit-Led\"\n",
    "    \n",
    "    elif segment==\"Beer Bars\":\n",
    "        subchannel=\"Drink-Led\"\n",
    "    \n",
    "    elif segment==\"Pickup\":\n",
    "        subchannel=\"Transit-Led\"\n",
    "    \n",
    "    elif segment==\"Club/Lounge\":\n",
    "        subchannel=\"Drink-Led\"\n",
    "    \n",
    "    elif segment==\"Drink Store\":\n",
    "        subchannel=\"Drink-Led\"\n",
    "    \n",
    "    elif segment==\"Supermarket\":\n",
    "        subchannel=\"Transit-Led\"\n",
    "    \n",
    "    elif segment==\"Casual Entertainment\":\n",
    "        subchannel=\"Entertainment-Led\"\n",
    "    \n",
    "    elif segment==\"Drug Store\":\n",
    "        subchannel=\"Transit-Led\"\n",
    "    \n",
    "    elif segment==\"Sports\":\n",
    "        subchannel=\"Entertainment-Led\"\n",
    "    \n",
    "    elif segment==\"High Culture\":\n",
    "        subchannel=\"Entertainment-Led\"\n",
    "    \n",
    "    return subchannel\n",
    "    "
   ]
  },
  {
   "cell_type": "code",
   "execution_count": 53,
   "metadata": {
    "collapsed": true
   },
   "outputs": [],
   "source": [
    "def sellsbeerpred(segment):\n",
    "    if segment=='Adults at Play':\n",
    "        beer=\"Yes\"\n",
    "    \n",
    "    elif segment=='Convenience Store':\n",
    "        beer=\"No\"\n",
    "    \n",
    "    elif segment==\"Cafe\":\n",
    "        beer=\"No\"\n",
    "        \n",
    "    elif segment==\"Lodging\":\n",
    "        beer=\"Maybe\"\n",
    "    \n",
    "    elif segment==\"Hypermarket\":\n",
    "        beer=\"No\"\n",
    "    \n",
    "    elif segment==\"Beer Bars\":\n",
    "        beer=\"Yes\"\n",
    "    \n",
    "    elif segment==\"Pickup\":\n",
    "        beer=\"No\"\n",
    "    \n",
    "    elif segment==\"Club/Lounge\":\n",
    "        beer=\"Yes\"\n",
    "    \n",
    "    elif segment==\"Drink Store\":\n",
    "        beer=\"Yes\"\n",
    "    \n",
    "    elif segment==\"Supermarket\":\n",
    "        beer=\"Maybe\"\n",
    "    \n",
    "    elif segment==\"Casual Entertainment\":\n",
    "        beer=\"No\"\n",
    "    \n",
    "    elif segment==\"Drug Store\":\n",
    "        beer=\"No\"\n",
    "    \n",
    "    elif segment==\"Sports\":\n",
    "        beer=\"Yes\"\n",
    "    \n",
    "    elif segment==\"High Culture\":\n",
    "        beer=\"No\"\n",
    "    \n",
    "    return beer"
   ]
  },
  {
   "cell_type": "code",
   "execution_count": 54,
   "metadata": {},
   "outputs": [],
   "source": [
    "data['Sells Beer'] = data['Segment'].map(lambda x: sellsbeerpred(x))"
   ]
  },
  {
   "cell_type": "code",
   "execution_count": 57,
   "metadata": {},
   "outputs": [],
   "source": [
    "data['Channel'] = data['Segment'].map(lambda x: channelpred(x))"
   ]
  },
  {
   "cell_type": "code",
   "execution_count": 67,
   "metadata": {},
   "outputs": [],
   "source": [
    "data['Sub-Channel'] = data['Segment'].map(lambda x: subchannelpred(x))"
   ]
  },
  {
   "cell_type": "code",
   "execution_count": 68,
   "metadata": {
    "collapsed": true
   },
   "outputs": [],
   "source": [
    "data.to_csv(r'C:\\Users\\Madhur\\Documents\\ABI\\POC Eagle Eye\\US\\California\\California Uniontable - Segment Predictions.csv', index=False)"
   ]
  }
 ],
 "metadata": {
  "anaconda-cloud": {},
  "kernelspec": {
   "display_name": "Python 3",
   "language": "python",
   "name": "python3"
  },
  "language_info": {
   "codemirror_mode": {
    "name": "ipython",
    "version": 3
   },
   "file_extension": ".py",
   "mimetype": "text/x-python",
   "name": "python",
   "nbconvert_exporter": "python",
   "pygments_lexer": "ipython3",
   "version": "3.5.2"
  }
 },
 "nbformat": 4,
 "nbformat_minor": 1
}
